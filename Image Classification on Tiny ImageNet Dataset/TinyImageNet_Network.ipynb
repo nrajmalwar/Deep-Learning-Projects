{
  "nbformat": 4,
  "nbformat_minor": 0,
  "metadata": {
    "colab": {
      "name": "TinyImageNet_Network_1.ipynb",
      "version": "0.3.2",
      "provenance": [],
      "include_colab_link": true
    },
    "kernelspec": {
      "name": "python3",
      "display_name": "Python 3"
    },
    "accelerator": "GPU"
  },
  "cells": [
    {
      "cell_type": "markdown",
      "metadata": {
        "id": "view-in-github",
        "colab_type": "text"
      },
      "source": [
        "<a href=\"https://colab.research.google.com/github/nrajmalwar/Deep-Learning-Projects/blob/master/Image%20Classification%20on%20Tiny%20ImageNet%20Dataset/TinyImageNet_Network.ipynb\" target=\"_parent\"><img src=\"https://colab.research.google.com/assets/colab-badge.svg\" alt=\"Open In Colab\"/></a>"
      ]
    },
    {
      "cell_type": "markdown",
      "metadata": {
        "id": "sZQ1u9HB-XZu",
        "colab_type": "text"
      },
      "source": [
        "#Model Architecture Builder Code"
      ]
    },
    {
      "cell_type": "code",
      "metadata": {
        "id": "8edSiHPi2N5l",
        "colab_type": "code",
        "outputId": "87c9d202-cee8-42fb-f8fd-334a7693edb9",
        "colab": {
          "base_uri": "https://localhost:8080/",
          "height": 35
        }
      },
      "source": [
        "# https://keras.io/\n",
        "!pip install -q keras\n",
        "import keras\n",
        "\n",
        "import keras\n",
        "from keras.models import Model, Sequential\n",
        "from keras.layers import Dense, Dropout, Flatten, Input, AveragePooling2D, merge, Activation, GlobalAveragePooling2D\n",
        "from keras.layers import Conv2D, MaxPooling2D, BatchNormalization\n",
        "from keras.layers import Concatenate\n",
        "from keras.optimizers import Adam\n",
        "from keras.layers import Reshape, Activation, Conv2D, Input, MaxPooling2D, BatchNormalization, Flatten, Dense, Lambda\n",
        "from keras.layers.merge import concatenate\n",
        "from keras.callbacks import ModelCheckpoint\n",
        "from keras.models import load_model\n",
        "from keras.regularizers import l2\n",
        "\n",
        "from keras.preprocessing.image import ImageDataGenerator\n",
        "from keras.utils import np_utils\n",
        "from keras.callbacks import ReduceLROnPlateau, CSVLogger, EarlyStopping\n",
        "from keras.models import load_model\n",
        "from keras.callbacks import *\n",
        "import matplotlib.pyplot as plt\n",
        "import numpy as np\n",
        "import pandas as pd\n",
        "\n",
        "# this part will prevent tensorflow to allocate all the avaliable GPU Memory\n",
        "# backend\n",
        "import tensorflow as tf\n",
        "from keras import backend as k\n",
        "\n",
        "# Don't pre-allocate memory; allocate as-needed\n",
        "config = tf.ConfigProto()\n",
        "config.gpu_options.allow_growth = True\n",
        "\n",
        "# Create a session with the above options specified.\n",
        "k.tensorflow_backend.set_session(tf.Session(config=config))\n",
        "\n",
        "# Hyperparameters\n",
        "\n",
        "# number of classes\n",
        "num_classes = 200\n",
        "# input image dimensions\n",
        "img_height, img_width = 32, 32\n",
        "# The images are RGB.\n",
        "img_channels = 3"
      ],
      "execution_count": 0,
      "outputs": [
        {
          "output_type": "stream",
          "text": [
            "Using TensorFlow backend.\n"
          ],
          "name": "stderr"
        }
      ]
    },
    {
      "cell_type": "code",
      "metadata": {
        "id": "ztoDypc63gEs",
        "colab_type": "code",
        "colab": {}
      },
      "source": [
        "def space_to_depth_x2(x):\n",
        "    import tensorflow as tf\n",
        "    return tf.space_to_depth(x, block_size=2)"
      ],
      "execution_count": 0,
      "outputs": []
    },
    {
      "cell_type": "code",
      "metadata": {
        "id": "SNnGm8Tv2fR1",
        "colab_type": "code",
        "outputId": "55777630-514b-44d9-950b-51695faed46f",
        "colab": {
          "base_uri": "https://localhost:8080/",
          "height": 89
        }
      },
      "source": [
        "input = Input(shape=(None, None, img_channels))\n",
        "\n",
        "# Block 1\n",
        "\n",
        "layer1 = Conv2D(32, (3,3), strides=(1,1), padding='same', name='conv_1', use_bias=False, kernel_regularizer=l2(2e-4))(input)\n",
        "layer1 = BatchNormalization(name='norm_1')(layer1)\n",
        "layer1 = Activation(\"relu\")(layer1)\n",
        "\n",
        "layer2 = Conv2D(64, (3,3), strides=(1,1), padding='same', name='conv_2', use_bias=False, kernel_regularizer=l2(2e-4))(layer1)\n",
        "layer2 = BatchNormalization(name='norm_2')(layer2)\n",
        "layer2 = Activation(\"relu\")(layer2)\n",
        "\n",
        "layer3 = Conv2D(128, (3,3), strides=(1,1), padding='same', name='conv_3', use_bias=False, kernel_regularizer=l2(2e-4))(layer2)\n",
        "layer3 = BatchNormalization(name='norm_3')(layer3)\n",
        "layer3 = Activation(\"relu\")(layer3)\n",
        "\n",
        "layer4 = Conv2D(256, (3,3), strides=(1,1), padding='same', name='conv_4', use_bias=False, kernel_regularizer=l2(2e-4))(layer3)\n",
        "layer4 = BatchNormalization(name='norm_4')(layer4)\n",
        "layer4 = Activation(\"relu\")(layer4)\n",
        "\n",
        "layer5 = Conv2D(512, (3,3), strides=(1,1), padding='same', name='conv_5', use_bias=False, kernel_regularizer=l2(2e-4))(layer4)\n",
        "layer5 = BatchNormalization(name='norm_5')(layer5)\n",
        "layer5 = Activation(\"relu\")(layer5)\n",
        "\n",
        "layer6 = MaxPooling2D(pool_size=(2, 2))(layer5)\n",
        "\n",
        "skip_connection_1 = layer6\n",
        "\n",
        "# Block 2\n",
        "\n",
        "layer7 = Conv2D(64, (3,3), strides=(1,1), padding='same', name='conv_7', use_bias=False, kernel_regularizer=l2(2e-4))(layer6)\n",
        "layer7 = BatchNormalization(name='norm_7')(layer7)\n",
        "layer7 = Activation(\"relu\")(layer7)\n",
        "\n",
        "layer8 = Conv2D(128, (3,3), strides=(1,1), padding='same', name='conv_8', use_bias=False, kernel_regularizer=l2(2e-4))(layer7)\n",
        "layer8 = BatchNormalization(name='norm_8')(layer8)\n",
        "layer8 = Activation(\"relu\")(layer8)\n",
        "\n",
        "layer9 = Conv2D(256, (3,3), strides=(1,1), padding='same', name='conv_9', use_bias=False, kernel_regularizer=l2(2e-4))(layer8)\n",
        "layer9 = BatchNormalization(name='norm_9')(layer9)\n",
        "layer9 = Activation(\"relu\")(layer9)\n",
        "\n",
        "layer10 = Conv2D(512, (3,3), strides=(1,1), padding='same', name='conv_10', use_bias=False, kernel_regularizer=l2(2e-4))(layer9)\n",
        "layer10 = BatchNormalization(name='norm_10')(layer10)\n",
        "layer10 = Activation(\"relu\")(layer10)\n",
        "\n",
        "layer11 = Conv2D(1024, (3,3), strides=(1,1), padding='same', name='conv_11', use_bias=False, kernel_regularizer=l2(2e-4))(layer10)\n",
        "layer11 = BatchNormalization(name='norm_11')(layer11)\n",
        "layer11 = Activation(\"relu\")(layer11)\n",
        "\n",
        "layer12 = MaxPooling2D(pool_size=(2, 2))(layer11)\n",
        "\n",
        "skip_connection_1 = Lambda(space_to_depth_x2)(skip_connection_1)\n",
        "\n",
        "layer13 = concatenate([skip_connection_1, layer12])\n",
        "\n",
        "skip_connection_2 = layer13\n",
        "\n",
        "# Block 3\n",
        "\n",
        "layer14 = Conv2D(32, (3,3), strides=(1,1), padding='same', name='conv_14', use_bias=False, kernel_regularizer=l2(2e-4))(layer13)\n",
        "layer14 = BatchNormalization(name='norm_14')(layer14)\n",
        "layer14 = Activation(\"relu\")(layer14)\n",
        "\n",
        "layer15 = Conv2D(128, (3,3), strides=(1,1), padding='same', name='conv_15', use_bias=False, kernel_regularizer=l2(2e-4))(layer14)\n",
        "layer15 = BatchNormalization(name='norm_15')(layer15)\n",
        "layer15 = Activation(\"relu\")(layer15)\n",
        "\n",
        "layer16 = Conv2D(256, (3,3), strides=(1,1), padding='same', name='conv_16', use_bias=False, kernel_regularizer=l2(2e-4))(layer15)\n",
        "layer16 = BatchNormalization(name='norm_16')(layer16)\n",
        "layer16 = Activation(\"relu\")(layer16)\n",
        "\n",
        "layer17 = Conv2D(512, (3,3), strides=(1,1), padding='same', name='conv_17', use_bias=False, kernel_regularizer=l2(2e-4))(layer16)\n",
        "layer17 = BatchNormalization(name='norm_17')(layer17)\n",
        "layer17 = Activation(\"relu\")(layer17)\n",
        "\n",
        "layer18 = Conv2D(1024, (3,3), strides=(1,1), padding='same', name='conv_18', use_bias=False, kernel_regularizer=l2(2e-4))(layer17)\n",
        "layer18 = BatchNormalization(name='norm_18')(layer18)\n",
        "layer18 = Activation(\"relu\")(layer18)\n",
        "\n",
        "layer19 = MaxPooling2D(pool_size=(2, 2))(layer18)\n",
        "\n",
        "skip_connection_2 = Lambda(space_to_depth_x2)(skip_connection_2)\n",
        "\n",
        "layer20 = concatenate([skip_connection_2, layer19])\n",
        "\n",
        "layer21 = Conv2D(num_classes, (1,1), name='conv_21', use_bias=False, kernel_regularizer=l2(2e-4))(layer20)\n",
        "layer21 = BatchNormalization(name='norm_21')(layer21)\n",
        "\n",
        "layer22 = GlobalAveragePooling2D(data_format=None)(layer21)\n",
        "\n",
        "layer23 = Activation('softmax')(layer22)\n",
        "\n",
        "output = layer23\n"
      ],
      "execution_count": 0,
      "outputs": [
        {
          "output_type": "stream",
          "text": [
            "WARNING:tensorflow:From /usr/local/lib/python3.6/dist-packages/tensorflow/python/framework/op_def_library.py:263: colocate_with (from tensorflow.python.framework.ops) is deprecated and will be removed in a future version.\n",
            "Instructions for updating:\n",
            "Colocations handled automatically by placer.\n"
          ],
          "name": "stdout"
        }
      ]
    },
    {
      "cell_type": "markdown",
      "metadata": {
        "id": "uPFcNRhmd3K4",
        "colab_type": "text"
      },
      "source": [
        "#Import Dataset"
      ]
    },
    {
      "cell_type": "code",
      "metadata": {
        "id": "Rbga60bNW5qn",
        "colab_type": "code",
        "outputId": "638c9dee-dbed-4868-b118-856d2274d6f9",
        "colab": {
          "base_uri": "https://localhost:8080/",
          "height": 124
        }
      },
      "source": [
        "from google.colab import drive\n",
        "drive.mount('/content/drive', force_remount=True)"
      ],
      "execution_count": 0,
      "outputs": [
        {
          "output_type": "stream",
          "text": [
            "Go to this URL in a browser: https://accounts.google.com/o/oauth2/auth?client_id=947318989803-6bn6qk8qdgf4n4g3pfee6491hc0brc4i.apps.googleusercontent.com&redirect_uri=urn%3Aietf%3Awg%3Aoauth%3A2.0%3Aoob&scope=email%20https%3A%2F%2Fwww.googleapis.com%2Fauth%2Fdocs.test%20https%3A%2F%2Fwww.googleapis.com%2Fauth%2Fdrive%20https%3A%2F%2Fwww.googleapis.com%2Fauth%2Fdrive.photos.readonly%20https%3A%2F%2Fwww.googleapis.com%2Fauth%2Fpeopleapi.readonly&response_type=code\n",
            "\n",
            "Enter your authorization code:\n",
            "··········\n",
            "Mounted at /content/drive\n"
          ],
          "name": "stdout"
        }
      ]
    },
    {
      "cell_type": "code",
      "metadata": {
        "id": "2-uxInsGaQTb",
        "colab_type": "code",
        "outputId": "9a278102-80a5-4548-dc0e-afedd19f37df",
        "colab": {
          "base_uri": "https://localhost:8080/",
          "height": 208
        }
      },
      "source": [
        "!wget http://cs231n.stanford.edu/tiny-imagenet-200.zip\n",
        "!unzip -qq 'tiny-imagenet-200.zip'"
      ],
      "execution_count": 0,
      "outputs": [
        {
          "output_type": "stream",
          "text": [
            "--2019-04-19 06:46:51--  http://cs231n.stanford.edu/tiny-imagenet-200.zip\n",
            "Resolving cs231n.stanford.edu (cs231n.stanford.edu)... 171.64.68.10\n",
            "Connecting to cs231n.stanford.edu (cs231n.stanford.edu)|171.64.68.10|:80... connected.\n",
            "HTTP request sent, awaiting response... 200 OK\n",
            "Length: 248100043 (237M) [application/zip]\n",
            "Saving to: ‘tiny-imagenet-200.zip’\n",
            "\n",
            "tiny-imagenet-200.z 100%[===================>] 236.61M  12.6MB/s    in 21s     \n",
            "\n",
            "2019-04-19 06:47:12 (11.4 MB/s) - ‘tiny-imagenet-200.zip’ saved [248100043/248100043]\n",
            "\n"
          ],
          "name": "stdout"
        }
      ]
    },
    {
      "cell_type": "code",
      "metadata": {
        "id": "r7SjAhI2Jskn",
        "colab_type": "code",
        "outputId": "66e60b58-b31a-4716-d4d5-d77952ebe583",
        "colab": {
          "base_uri": "https://localhost:8080/",
          "height": 141
        }
      },
      "source": [
        "val_data = pd.read_csv('./tiny-imagenet-200/val/val_annotations.txt', sep='\\t', header=None, names=['File', 'Class', 'X', 'Y', 'H', 'W'])\n",
        "val_data.drop(['X', 'Y', 'H', 'W'], axis=1, inplace=True)\n",
        "val_data.head(3)"
      ],
      "execution_count": 0,
      "outputs": [
        {
          "output_type": "execute_result",
          "data": {
            "text/html": [
              "<div>\n",
              "<style scoped>\n",
              "    .dataframe tbody tr th:only-of-type {\n",
              "        vertical-align: middle;\n",
              "    }\n",
              "\n",
              "    .dataframe tbody tr th {\n",
              "        vertical-align: top;\n",
              "    }\n",
              "\n",
              "    .dataframe thead th {\n",
              "        text-align: right;\n",
              "    }\n",
              "</style>\n",
              "<table border=\"1\" class=\"dataframe\">\n",
              "  <thead>\n",
              "    <tr style=\"text-align: right;\">\n",
              "      <th></th>\n",
              "      <th>File</th>\n",
              "      <th>Class</th>\n",
              "    </tr>\n",
              "  </thead>\n",
              "  <tbody>\n",
              "    <tr>\n",
              "      <th>0</th>\n",
              "      <td>val_0.JPEG</td>\n",
              "      <td>n03444034</td>\n",
              "    </tr>\n",
              "    <tr>\n",
              "      <th>1</th>\n",
              "      <td>val_1.JPEG</td>\n",
              "      <td>n04067472</td>\n",
              "    </tr>\n",
              "    <tr>\n",
              "      <th>2</th>\n",
              "      <td>val_2.JPEG</td>\n",
              "      <td>n04070727</td>\n",
              "    </tr>\n",
              "  </tbody>\n",
              "</table>\n",
              "</div>"
            ],
            "text/plain": [
              "         File      Class\n",
              "0  val_0.JPEG  n03444034\n",
              "1  val_1.JPEG  n04067472\n",
              "2  val_2.JPEG  n04070727"
            ]
          },
          "metadata": {
            "tags": []
          },
          "execution_count": 7
        }
      ]
    },
    {
      "cell_type": "code",
      "metadata": {
        "id": "wRYLyZtwKKDp",
        "colab_type": "code",
        "colab": {}
      },
      "source": [
        "train_datagen = ImageDataGenerator(\n",
        "    rescale= 1./255)\n",
        "\n",
        "valid_datagen = ImageDataGenerator(rescale=1./255)"
      ],
      "execution_count": 0,
      "outputs": []
    },
    {
      "cell_type": "code",
      "metadata": {
        "id": "igYtU_VSKXto",
        "colab_type": "code",
        "outputId": "72882110-c7f5-434c-c72c-befc883c20f5",
        "colab": {
          "base_uri": "https://localhost:8080/",
          "height": 35
        }
      },
      "source": [
        "train_generator = train_datagen.flow_from_directory( r'./tiny-imagenet-200/train/', target_size=(32, 32), color_mode='rgb', \n",
        "                                                    batch_size=256, class_mode='categorical', shuffle=True, seed=42)"
      ],
      "execution_count": 0,
      "outputs": [
        {
          "output_type": "stream",
          "text": [
            "Found 100000 images belonging to 200 classes.\n"
          ],
          "name": "stdout"
        }
      ]
    },
    {
      "cell_type": "code",
      "metadata": {
        "id": "UBRfC4SdKbca",
        "colab_type": "code",
        "outputId": "b9480083-d805-41aa-bef3-9249f55d0394",
        "colab": {
          "base_uri": "https://localhost:8080/",
          "height": 35
        }
      },
      "source": [
        "validation_generator = valid_datagen.flow_from_dataframe(val_data, directory='./tiny-imagenet-200/val/images/', x_col='File', y_col='Class', target_size=(64, 64),\n",
        "                                                    color_mode='rgb', class_mode='categorical', batch_size=256, shuffle=True, seed=42)"
      ],
      "execution_count": 0,
      "outputs": [
        {
          "output_type": "stream",
          "text": [
            "Found 10000 images belonging to 200 classes.\n"
          ],
          "name": "stdout"
        }
      ]
    },
    {
      "cell_type": "markdown",
      "metadata": {
        "id": "dSZCfzq3LctT",
        "colab_type": "text"
      },
      "source": [
        "#Model"
      ]
    },
    {
      "cell_type": "code",
      "metadata": {
        "id": "Jeh0VAxy26NV",
        "colab_type": "code",
        "outputId": "e16517a4-b6fd-4c71-8a2f-e05ba9bfcb2e",
        "colab": {
          "base_uri": "https://localhost:8080/",
          "height": 2149
        }
      },
      "source": [
        "model = Model(inputs=[input], outputs=[output])\n",
        "model.summary()"
      ],
      "execution_count": 0,
      "outputs": [
        {
          "output_type": "stream",
          "text": [
            "__________________________________________________________________________________________________\n",
            "Layer (type)                    Output Shape         Param #     Connected to                     \n",
            "==================================================================================================\n",
            "input_1 (InputLayer)            (None, None, None, 3 0                                            \n",
            "__________________________________________________________________________________________________\n",
            "conv_1 (Conv2D)                 (None, None, None, 3 864         input_1[0][0]                    \n",
            "__________________________________________________________________________________________________\n",
            "norm_1 (BatchNormalization)     (None, None, None, 3 128         conv_1[0][0]                     \n",
            "__________________________________________________________________________________________________\n",
            "activation_1 (Activation)       (None, None, None, 3 0           norm_1[0][0]                     \n",
            "__________________________________________________________________________________________________\n",
            "conv_2 (Conv2D)                 (None, None, None, 6 18432       activation_1[0][0]               \n",
            "__________________________________________________________________________________________________\n",
            "norm_2 (BatchNormalization)     (None, None, None, 6 256         conv_2[0][0]                     \n",
            "__________________________________________________________________________________________________\n",
            "activation_2 (Activation)       (None, None, None, 6 0           norm_2[0][0]                     \n",
            "__________________________________________________________________________________________________\n",
            "conv_3 (Conv2D)                 (None, None, None, 1 73728       activation_2[0][0]               \n",
            "__________________________________________________________________________________________________\n",
            "norm_3 (BatchNormalization)     (None, None, None, 1 512         conv_3[0][0]                     \n",
            "__________________________________________________________________________________________________\n",
            "activation_3 (Activation)       (None, None, None, 1 0           norm_3[0][0]                     \n",
            "__________________________________________________________________________________________________\n",
            "conv_4 (Conv2D)                 (None, None, None, 2 294912      activation_3[0][0]               \n",
            "__________________________________________________________________________________________________\n",
            "norm_4 (BatchNormalization)     (None, None, None, 2 1024        conv_4[0][0]                     \n",
            "__________________________________________________________________________________________________\n",
            "activation_4 (Activation)       (None, None, None, 2 0           norm_4[0][0]                     \n",
            "__________________________________________________________________________________________________\n",
            "conv_5 (Conv2D)                 (None, None, None, 5 1179648     activation_4[0][0]               \n",
            "__________________________________________________________________________________________________\n",
            "norm_5 (BatchNormalization)     (None, None, None, 5 2048        conv_5[0][0]                     \n",
            "__________________________________________________________________________________________________\n",
            "activation_5 (Activation)       (None, None, None, 5 0           norm_5[0][0]                     \n",
            "__________________________________________________________________________________________________\n",
            "max_pooling2d_1 (MaxPooling2D)  (None, None, None, 5 0           activation_5[0][0]               \n",
            "__________________________________________________________________________________________________\n",
            "conv_7 (Conv2D)                 (None, None, None, 6 294912      max_pooling2d_1[0][0]            \n",
            "__________________________________________________________________________________________________\n",
            "norm_7 (BatchNormalization)     (None, None, None, 6 256         conv_7[0][0]                     \n",
            "__________________________________________________________________________________________________\n",
            "activation_6 (Activation)       (None, None, None, 6 0           norm_7[0][0]                     \n",
            "__________________________________________________________________________________________________\n",
            "conv_8 (Conv2D)                 (None, None, None, 1 73728       activation_6[0][0]               \n",
            "__________________________________________________________________________________________________\n",
            "norm_8 (BatchNormalization)     (None, None, None, 1 512         conv_8[0][0]                     \n",
            "__________________________________________________________________________________________________\n",
            "activation_7 (Activation)       (None, None, None, 1 0           norm_8[0][0]                     \n",
            "__________________________________________________________________________________________________\n",
            "conv_9 (Conv2D)                 (None, None, None, 2 294912      activation_7[0][0]               \n",
            "__________________________________________________________________________________________________\n",
            "norm_9 (BatchNormalization)     (None, None, None, 2 1024        conv_9[0][0]                     \n",
            "__________________________________________________________________________________________________\n",
            "activation_8 (Activation)       (None, None, None, 2 0           norm_9[0][0]                     \n",
            "__________________________________________________________________________________________________\n",
            "conv_10 (Conv2D)                (None, None, None, 5 1179648     activation_8[0][0]               \n",
            "__________________________________________________________________________________________________\n",
            "norm_10 (BatchNormalization)    (None, None, None, 5 2048        conv_10[0][0]                    \n",
            "__________________________________________________________________________________________________\n",
            "activation_9 (Activation)       (None, None, None, 5 0           norm_10[0][0]                    \n",
            "__________________________________________________________________________________________________\n",
            "conv_11 (Conv2D)                (None, None, None, 1 4718592     activation_9[0][0]               \n",
            "__________________________________________________________________________________________________\n",
            "norm_11 (BatchNormalization)    (None, None, None, 1 4096        conv_11[0][0]                    \n",
            "__________________________________________________________________________________________________\n",
            "activation_10 (Activation)      (None, None, None, 1 0           norm_11[0][0]                    \n",
            "__________________________________________________________________________________________________\n",
            "lambda_1 (Lambda)               (None, None, None, 2 0           max_pooling2d_1[0][0]            \n",
            "__________________________________________________________________________________________________\n",
            "max_pooling2d_2 (MaxPooling2D)  (None, None, None, 1 0           activation_10[0][0]              \n",
            "__________________________________________________________________________________________________\n",
            "concatenate_1 (Concatenate)     (None, None, None, 3 0           lambda_1[0][0]                   \n",
            "                                                                 max_pooling2d_2[0][0]            \n",
            "__________________________________________________________________________________________________\n",
            "conv_14 (Conv2D)                (None, None, None, 3 884736      concatenate_1[0][0]              \n",
            "__________________________________________________________________________________________________\n",
            "norm_14 (BatchNormalization)    (None, None, None, 3 128         conv_14[0][0]                    \n",
            "__________________________________________________________________________________________________\n",
            "activation_11 (Activation)      (None, None, None, 3 0           norm_14[0][0]                    \n",
            "__________________________________________________________________________________________________\n",
            "conv_15 (Conv2D)                (None, None, None, 1 36864       activation_11[0][0]              \n",
            "__________________________________________________________________________________________________\n",
            "norm_15 (BatchNormalization)    (None, None, None, 1 512         conv_15[0][0]                    \n",
            "__________________________________________________________________________________________________\n",
            "activation_12 (Activation)      (None, None, None, 1 0           norm_15[0][0]                    \n",
            "__________________________________________________________________________________________________\n",
            "conv_16 (Conv2D)                (None, None, None, 2 294912      activation_12[0][0]              \n",
            "__________________________________________________________________________________________________\n",
            "norm_16 (BatchNormalization)    (None, None, None, 2 1024        conv_16[0][0]                    \n",
            "__________________________________________________________________________________________________\n",
            "activation_13 (Activation)      (None, None, None, 2 0           norm_16[0][0]                    \n",
            "__________________________________________________________________________________________________\n",
            "conv_17 (Conv2D)                (None, None, None, 5 1179648     activation_13[0][0]              \n",
            "__________________________________________________________________________________________________\n",
            "norm_17 (BatchNormalization)    (None, None, None, 5 2048        conv_17[0][0]                    \n",
            "__________________________________________________________________________________________________\n",
            "activation_14 (Activation)      (None, None, None, 5 0           norm_17[0][0]                    \n",
            "__________________________________________________________________________________________________\n",
            "conv_18 (Conv2D)                (None, None, None, 1 4718592     activation_14[0][0]              \n",
            "__________________________________________________________________________________________________\n",
            "norm_18 (BatchNormalization)    (None, None, None, 1 4096        conv_18[0][0]                    \n",
            "__________________________________________________________________________________________________\n",
            "activation_15 (Activation)      (None, None, None, 1 0           norm_18[0][0]                    \n",
            "__________________________________________________________________________________________________\n",
            "lambda_2 (Lambda)               (None, None, None, 1 0           concatenate_1[0][0]              \n",
            "__________________________________________________________________________________________________\n",
            "max_pooling2d_3 (MaxPooling2D)  (None, None, None, 1 0           activation_15[0][0]              \n",
            "__________________________________________________________________________________________________\n",
            "concatenate_2 (Concatenate)     (None, None, None, 1 0           lambda_2[0][0]                   \n",
            "                                                                 max_pooling2d_3[0][0]            \n",
            "__________________________________________________________________________________________________\n",
            "conv_21 (Conv2D)                (None, None, None, 2 2662400     concatenate_2[0][0]              \n",
            "__________________________________________________________________________________________________\n",
            "norm_21 (BatchNormalization)    (None, None, None, 2 800         conv_21[0][0]                    \n",
            "__________________________________________________________________________________________________\n",
            "global_average_pooling2d_1 (Glo (None, 200)          0           norm_21[0][0]                    \n",
            "__________________________________________________________________________________________________\n",
            "activation_16 (Activation)      (None, 200)          0           global_average_pooling2d_1[0][0] \n",
            "==================================================================================================\n",
            "Total params: 17,927,040\n",
            "Trainable params: 17,916,784\n",
            "Non-trainable params: 10,256\n",
            "__________________________________________________________________________________________________\n"
          ],
          "name": "stdout"
        }
      ]
    },
    {
      "cell_type": "code",
      "metadata": {
        "id": "apCwOjvZ4Kts",
        "colab_type": "code",
        "colab": {}
      },
      "source": [
        "lr_reducer = ReduceLROnPlateau(factor=np.sqrt(0.1), cooldown=0, patience=5, min_lr=0.5e-6)\n",
        "\n",
        "model.compile(loss = 'categorical_crossentropy',\n",
        "              optimizer = Adam(lr= 0.0001, epsilon=1e-08),\n",
        "              metrics = ['accuracy'])"
      ],
      "execution_count": 0,
      "outputs": []
    },
    {
      "cell_type": "markdown",
      "metadata": {
        "id": "UxCBlIY7EBcX",
        "colab_type": "text"
      },
      "source": [
        "#Model Training"
      ]
    },
    {
      "cell_type": "code",
      "metadata": {
        "id": "tLaFy2AO4TLl",
        "colab_type": "code",
        "outputId": "4cd6ea25-bb37-4c41-f6a9-073a2ef83f78",
        "colab": {
          "base_uri": "https://localhost:8080/",
          "height": 728
        }
      },
      "source": [
        "train_steps = np.math.ceil(train_generator.samples / train_generator.batch_size)\n",
        "validation_steps = np.math.ceil(validation_generator.samples / validation_generator.batch_size)\n",
        "\n",
        "checkpoint = ModelCheckpoint('/content/drive/My Drive/Colab Notebooks/EIP Models/Model_1.hdf5', monitor='val_acc', verbose=1, save_best_only=True, save_weights_only=False, mode='auto', period=1)\n",
        "\n",
        "model.fit_generator(train_generator, epochs=10, steps_per_epoch=train_steps, validation_steps=validation_steps, validation_data=validation_generator, verbose=1, callbacks=[lr_reducer, checkpoint])"
      ],
      "execution_count": 0,
      "outputs": [
        {
          "output_type": "stream",
          "text": [
            "Epoch 1/10\n",
            "391/391 [==============================] - 370s 947ms/step - loss: 4.7958 - acc: 0.1663 - val_loss: 5.1953 - val_acc: 0.0879\n",
            "\n",
            "Epoch 00001: val_acc improved from -inf to 0.08790, saving model to /content/drive/My Drive/Colab Notebooks/EIP Models/Model_1.hdf5\n",
            "Epoch 2/10\n",
            "391/391 [==============================] - 344s 879ms/step - loss: 4.2304 - acc: 0.2481 - val_loss: 4.8179 - val_acc: 0.1465\n",
            "\n",
            "Epoch 00002: val_acc improved from 0.08790 to 0.14650, saving model to /content/drive/My Drive/Colab Notebooks/EIP Models/Model_1.hdf5\n",
            "Epoch 3/10\n",
            "391/391 [==============================] - 344s 880ms/step - loss: 3.8502 - acc: 0.3115 - val_loss: 4.7713 - val_acc: 0.1546\n",
            "\n",
            "Epoch 00003: val_acc improved from 0.14650 to 0.15460, saving model to /content/drive/My Drive/Colab Notebooks/EIP Models/Model_1.hdf5\n",
            "Epoch 4/10\n",
            "391/391 [==============================] - 344s 880ms/step - loss: 3.5463 - acc: 0.3643 - val_loss: 5.0611 - val_acc: 0.1111\n",
            "\n",
            "Epoch 00004: val_acc did not improve from 0.15460\n",
            "Epoch 5/10\n",
            "391/391 [==============================] - 344s 880ms/step - loss: 3.2636 - acc: 0.4189 - val_loss: 5.0065 - val_acc: 0.1092\n",
            "\n",
            "Epoch 00005: val_acc did not improve from 0.15460\n",
            "Epoch 6/10\n",
            "391/391 [==============================] - 344s 880ms/step - loss: 2.9941 - acc: 0.4750 - val_loss: 5.0867 - val_acc: 0.0972\n",
            "\n",
            "Epoch 00006: val_acc did not improve from 0.15460\n",
            "Epoch 7/10\n",
            "391/391 [==============================] - 344s 880ms/step - loss: 2.7140 - acc: 0.5351 - val_loss: 5.4242 - val_acc: 0.0595\n",
            "\n",
            "Epoch 00007: val_acc did not improve from 0.15460\n",
            "Epoch 8/10\n",
            "391/391 [==============================] - 344s 881ms/step - loss: 2.4308 - acc: 0.6008 - val_loss: 5.3480 - val_acc: 0.0793\n",
            "\n",
            "Epoch 00008: val_acc did not improve from 0.15460\n",
            "Epoch 9/10\n",
            "391/391 [==============================] - 344s 881ms/step - loss: 1.8531 - acc: 0.7449 - val_loss: 4.7639 - val_acc: 0.1561\n",
            "\n",
            "Epoch 00009: val_acc improved from 0.15460 to 0.15610, saving model to /content/drive/My Drive/Colab Notebooks/EIP Models/Model_1.hdf5\n",
            "Epoch 10/10\n",
            "391/391 [==============================] - 344s 881ms/step - loss: 1.5725 - acc: 0.8203 - val_loss: 4.6525 - val_acc: 0.1788\n",
            "\n",
            "Epoch 00010: val_acc improved from 0.15610 to 0.17880, saving model to /content/drive/My Drive/Colab Notebooks/EIP Models/Model_1.hdf5\n"
          ],
          "name": "stdout"
        },
        {
          "output_type": "execute_result",
          "data": {
            "text/plain": [
              "<keras.callbacks.History at 0x7f869f97a8d0>"
            ]
          },
          "metadata": {
            "tags": []
          },
          "execution_count": 14
        }
      ]
    },
    {
      "cell_type": "code",
      "metadata": {
        "colab_type": "code",
        "id": "KP-SlBZKY4vF",
        "outputId": "0b82f838-8604-4731-b20c-329c6983f002",
        "colab": {
          "base_uri": "https://localhost:8080/",
          "height": 52
        }
      },
      "source": [
        "train_generator = train_datagen.flow_from_directory( r'./tiny-imagenet-200/train/', target_size=(64, 64), color_mode='rgb', \n",
        "                                                    batch_size=64, class_mode='categorical', shuffle=True, seed=42)\n",
        "\n",
        "validation_generator = valid_datagen.flow_from_dataframe(val_data, directory='./tiny-imagenet-200/val/images/', x_col='File', y_col='Class', target_size=(64, 64),\n",
        "                                                    color_mode='rgb', class_mode='categorical', batch_size=64, shuffle=True, seed=42)\n",
        "\n",
        "train_steps = np.math.ceil(train_generator.samples / train_generator.batch_size)\n",
        "validation_steps = np.math.ceil(validation_generator.samples / validation_generator.batch_size)"
      ],
      "execution_count": 0,
      "outputs": [
        {
          "output_type": "stream",
          "text": [
            "Found 100000 images belonging to 200 classes.\n",
            "Found 10000 images belonging to 200 classes.\n"
          ],
          "name": "stdout"
        }
      ]
    },
    {
      "cell_type": "code",
      "metadata": {
        "id": "pTfZIGrf4Uyd",
        "colab_type": "code",
        "outputId": "c5a9b49e-36ac-4d35-85d3-c4542f50572b",
        "colab": {
          "base_uri": "https://localhost:8080/",
          "height": 468
        }
      },
      "source": [
        "model = load_model('/content/drive/My Drive/Colab Notebooks/EIP Models/Model_1.hdf5')\n",
        "\n",
        "checkpoint = ModelCheckpoint('/content/drive/My Drive/Colab Notebooks/EIP Models/Model_2.hdf5', monitor='val_acc', verbose=1, save_best_only=True, save_weights_only=False, mode='auto', period=1)\n",
        "\n",
        "model.fit_generator(train_generator, epochs=10, steps_per_epoch=train_steps, validation_steps=validation_steps, validation_data=validation_generator, verbose=1, callbacks=[lr_reducer, checkpoint])"
      ],
      "execution_count": 0,
      "outputs": [
        {
          "output_type": "stream",
          "text": [
            "Epoch 1/10\n",
            "1563/1563 [==============================] - 1252s 801ms/step - loss: 3.6015 - acc: 0.3634 - val_loss: 3.5968 - val_acc: 0.3264\n",
            "\n",
            "Epoch 00001: val_acc improved from -inf to 0.32640, saving model to /content/drive/My Drive/Colab Notebooks/EIP Models/Model_2.hdf5\n",
            "Epoch 2/10\n",
            "1563/1563 [==============================] - 1221s 781ms/step - loss: 3.2838 - acc: 0.4211 - val_loss: 3.5994 - val_acc: 0.3316\n",
            "\n",
            "Epoch 00002: val_acc improved from 0.32640 to 0.33160, saving model to /content/drive/My Drive/Colab Notebooks/EIP Models/Model_2.hdf5\n",
            "Epoch 3/10\n",
            "1563/1563 [==============================] - 1220s 780ms/step - loss: 3.1082 - acc: 0.4555 - val_loss: 3.4499 - val_acc: 0.3580\n",
            "\n",
            "Epoch 00003: val_acc improved from 0.33160 to 0.35800, saving model to /content/drive/My Drive/Colab Notebooks/EIP Models/Model_2.hdf5\n",
            "Epoch 4/10\n",
            "1563/1563 [==============================] - 1220s 781ms/step - loss: 2.9590 - acc: 0.4865 - val_loss: 3.5791 - val_acc: 0.3260\n",
            "\n",
            "Epoch 00004: val_acc did not improve from 0.35800\n",
            "Epoch 5/10\n",
            "1563/1563 [==============================] - 1220s 781ms/step - loss: 2.8221 - acc: 0.5173 - val_loss: 3.4292 - val_acc: 0.3544\n",
            "\n",
            "Epoch 00005: val_acc did not improve from 0.35800\n",
            "Epoch 6/10\n",
            "1563/1563 [==============================] - 1221s 781ms/step - loss: 2.6873 - acc: 0.5466 - val_loss: 3.6207 - val_acc: 0.3262\n",
            "\n",
            "Epoch 00006: val_acc did not improve from 0.35800\n",
            "Epoch 7/10\n",
            " 442/1563 [=======>......................] - ETA: 14:06 - loss: 2.5352 - acc: 0.5869"
          ],
          "name": "stdout"
        }
      ]
    },
    {
      "cell_type": "code",
      "metadata": {
        "id": "Jiyb9TlVGsZs",
        "colab_type": "code",
        "outputId": "d31c98b6-fee0-4d68-8777-41e3544d550e",
        "colab": {
          "base_uri": "https://localhost:8080/",
          "height": 537
        }
      },
      "source": [
        "model = load_model('/content/drive/My Drive/Colab Notebooks/EIP Models/Exp_25_2.h5')\n",
        "\n",
        "model.fit_generator(train_generator, epochs=15, steps_per_epoch=200, validation_steps=200, validation_data=validation_generator, verbose=1)\n",
        "\n",
        "model.save('/content/drive/My Drive/Colab Notebooks/EIP Models/Exp_25_3.h5')  # creates a HDF5 file 'my_model.h5'"
      ],
      "execution_count": 0,
      "outputs": [
        {
          "output_type": "stream",
          "text": [
            "Epoch 1/15\n",
            "200/200 [==============================] - 375s 2s/step - loss: 2.0313 - acc: 0.5311 - val_loss: 2.2556 - val_acc: 0.4666\n",
            "Epoch 2/15\n",
            "200/200 [==============================] - 371s 2s/step - loss: 1.9186 - acc: 0.5566 - val_loss: 2.3949 - val_acc: 0.4382\n",
            "Epoch 3/15\n",
            "200/200 [==============================] - 371s 2s/step - loss: 1.9166 - acc: 0.5563 - val_loss: 2.2960 - val_acc: 0.4643\n",
            "Epoch 4/15\n",
            "200/200 [==============================] - 370s 2s/step - loss: 1.9561 - acc: 0.5463 - val_loss: 2.3387 - val_acc: 0.4475\n",
            "Epoch 5/15\n",
            "200/200 [==============================] - 371s 2s/step - loss: 1.9363 - acc: 0.5496 - val_loss: 2.2723 - val_acc: 0.4688\n",
            "Epoch 6/15\n",
            "200/200 [==============================] - 372s 2s/step - loss: 1.9214 - acc: 0.5480 - val_loss: 2.2265 - val_acc: 0.4754\n",
            "Epoch 7/15\n",
            "200/200 [==============================] - 372s 2s/step - loss: 1.9495 - acc: 0.5410 - val_loss: 2.4182 - val_acc: 0.4413\n",
            "Epoch 8/15\n",
            "200/200 [==============================] - 369s 2s/step - loss: 1.9169 - acc: 0.5523 - val_loss: 2.3398 - val_acc: 0.4514\n",
            "Epoch 9/15\n",
            "200/200 [==============================] - 365s 2s/step - loss: 1.8185 - acc: 0.5760 - val_loss: 2.2635 - val_acc: 0.4736\n",
            "Epoch 10/15\n",
            "200/200 [==============================] - 365s 2s/step - loss: 1.7786 - acc: 0.5863 - val_loss: 2.3366 - val_acc: 0.4569\n",
            "Epoch 11/15\n",
            "200/200 [==============================] - 365s 2s/step - loss: 1.7436 - acc: 0.5928 - val_loss: 2.3672 - val_acc: 0.4485\n",
            "Epoch 12/15\n",
            "200/200 [==============================] - 366s 2s/step - loss: 1.7651 - acc: 0.5904 - val_loss: 2.2242 - val_acc: 0.4697\n",
            "Epoch 13/15\n",
            "200/200 [==============================] - 365s 2s/step - loss: 1.7753 - acc: 0.5811 - val_loss: 2.2009 - val_acc: 0.4836\n",
            "Epoch 14/15\n",
            "200/200 [==============================] - 366s 2s/step - loss: 1.7831 - acc: 0.5816 - val_loss: 2.2450 - val_acc: 0.4729\n",
            "Epoch 15/15\n",
            "200/200 [==============================] - 365s 2s/step - loss: 1.7623 - acc: 0.5804 - val_loss: 2.1495 - val_acc: 0.4893\n"
          ],
          "name": "stdout"
        }
      ]
    },
    {
      "cell_type": "code",
      "metadata": {
        "colab_type": "code",
        "outputId": "dc51f7ab-522e-4a9b-8e3b-cc5e01eb8078",
        "id": "bQuOD6-q_WBs",
        "colab": {
          "base_uri": "https://localhost:8080/",
          "height": 35
        }
      },
      "source": [
        "train_generator = train_datagen.flow_from_directory( r'./tiny-imagenet-200/train/', target_size=(16, 16), color_mode='rgb', \n",
        "                                                    batch_size=256, class_mode='categorical', shuffle=True, seed=42)"
      ],
      "execution_count": 0,
      "outputs": [
        {
          "output_type": "stream",
          "text": [
            "Found 100000 images belonging to 200 classes.\n"
          ],
          "name": "stdout"
        }
      ]
    },
    {
      "cell_type": "code",
      "metadata": {
        "colab_type": "code",
        "outputId": "afeea3c8-4656-40a0-8403-746e7fb05672",
        "id": "T4nEVSde_WBx",
        "colab": {
          "base_uri": "https://localhost:8080/",
          "height": 35
        }
      },
      "source": [
        "validation_generator = valid_datagen.flow_from_dataframe(val_data, directory='./tiny-imagenet-200/val/images/', x_col='File', y_col='Class', target_size=(64, 64),\n",
        "                                                    color_mode='rgb', class_mode='categorical', batch_size=256, shuffle=True, seed=42)"
      ],
      "execution_count": 0,
      "outputs": [
        {
          "output_type": "stream",
          "text": [
            "Found 10000 images belonging to 200 classes.\n"
          ],
          "name": "stdout"
        }
      ]
    },
    {
      "cell_type": "code",
      "metadata": {
        "id": "g9A3pesKbUJ8",
        "colab_type": "code",
        "outputId": "a5816699-bcc8-4226-f9ff-1eea354e59ef",
        "colab": {
          "base_uri": "https://localhost:8080/",
          "height": 364
        }
      },
      "source": [
        "model = load_model('/content/drive/My Drive/Colab Notebooks/EIP Models/Exp_25_3.h5')\n",
        "\n",
        "model.fit_generator(train_generator, epochs=10, steps_per_epoch=200, validation_steps=200, validation_data=validation_generator, verbose=1)\n",
        "\n",
        "model.save('/content/drive/My Drive/Colab Notebooks/EIP Models/Exp_25_4.h5')  # creates a HDF5 file 'my_model.h5'"
      ],
      "execution_count": 0,
      "outputs": [
        {
          "output_type": "stream",
          "text": [
            "Epoch 1/10\n",
            "200/200 [==============================] - 516s 3s/step - loss: 3.4860 - acc: 0.2437 - val_loss: 4.7604 - val_acc: 0.1183\n",
            "Epoch 2/10\n",
            "200/200 [==============================] - 490s 2s/step - loss: 2.9366 - acc: 0.3229 - val_loss: 4.7005 - val_acc: 0.1193\n",
            "Epoch 3/10\n",
            "200/200 [==============================] - 485s 2s/step - loss: 2.5609 - acc: 0.3910 - val_loss: 4.8211 - val_acc: 0.1118\n",
            "Epoch 4/10\n",
            "200/200 [==============================] - 485s 2s/step - loss: 2.5257 - acc: 0.3996 - val_loss: 4.7537 - val_acc: 0.1168\n",
            "Epoch 5/10\n",
            "200/200 [==============================] - 485s 2s/step - loss: 2.2143 - acc: 0.4627 - val_loss: 4.9427 - val_acc: 0.0998\n",
            "Epoch 6/10\n",
            "200/200 [==============================] - 485s 2s/step - loss: 2.1764 - acc: 0.4738 - val_loss: 4.7097 - val_acc: 0.1144\n",
            "Epoch 7/10\n",
            "200/200 [==============================] - 485s 2s/step - loss: 1.8859 - acc: 0.5362 - val_loss: 4.8113 - val_acc: 0.1110\n",
            "Epoch 8/10\n",
            "200/200 [==============================] - 485s 2s/step - loss: 1.8675 - acc: 0.5440 - val_loss: 4.9543 - val_acc: 0.1019\n",
            "Epoch 9/10\n",
            "200/200 [==============================] - 486s 2s/step - loss: 1.5894 - acc: 0.6119 - val_loss: 5.0219 - val_acc: 0.0944\n",
            "Epoch 10/10\n",
            "200/200 [==============================] - 485s 2s/step - loss: 1.5537 - acc: 0.6211 - val_loss: 5.0340 - val_acc: 0.0911\n"
          ],
          "name": "stdout"
        }
      ]
    },
    {
      "cell_type": "code",
      "metadata": {
        "colab_type": "code",
        "outputId": "7916dbbc-15f2-45bd-d4da-5570710eeae1",
        "id": "GgB7y1Bw_Pyg",
        "colab": {
          "base_uri": "https://localhost:8080/",
          "height": 35
        }
      },
      "source": [
        "train_generator = train_datagen.flow_from_directory( r'./tiny-imagenet-200/train/', target_size=(64, 64), color_mode='rgb', \n",
        "                                                    batch_size=64, class_mode='categorical', shuffle=True, seed=42)"
      ],
      "execution_count": 0,
      "outputs": [
        {
          "output_type": "stream",
          "text": [
            "Found 100000 images belonging to 200 classes.\n"
          ],
          "name": "stdout"
        }
      ]
    },
    {
      "cell_type": "code",
      "metadata": {
        "colab_type": "code",
        "outputId": "b613a3de-31eb-48fd-ad2c-fa017209197a",
        "id": "IuROfpVM_Pyo",
        "colab": {
          "base_uri": "https://localhost:8080/",
          "height": 35
        }
      },
      "source": [
        "validation_generator = valid_datagen.flow_from_dataframe(val_data, directory='./tiny-imagenet-200/val/images/', x_col='File', y_col='Class', target_size=(64, 64),\n",
        "                                                    color_mode='rgb', class_mode='categorical', batch_size=64, shuffle=True, seed=42)"
      ],
      "execution_count": 0,
      "outputs": [
        {
          "output_type": "stream",
          "text": [
            "Found 10000 images belonging to 200 classes.\n"
          ],
          "name": "stdout"
        }
      ]
    },
    {
      "cell_type": "code",
      "metadata": {
        "id": "Go-hD8jOiV63",
        "colab_type": "code",
        "outputId": "3916a8c6-d98d-4771-fbbf-87957e63f3c7",
        "colab": {
          "base_uri": "https://localhost:8080/",
          "height": 537
        }
      },
      "source": [
        "model = load_model('/content/drive/My Drive/Colab Notebooks/EIP Models/Exp_25_4.h5')\n",
        "\n",
        "model.fit_generator(train_generator, epochs=15, steps_per_epoch=200, validation_steps=200, validation_data=validation_generator, verbose=1)\n",
        "\n",
        "model.save('/content/drive/My Drive/Colab Notebooks/EIP Models/Exp_25_5.h5')  # creates a HDF5 file 'my_model.h5'"
      ],
      "execution_count": 0,
      "outputs": [
        {
          "output_type": "stream",
          "text": [
            "Epoch 1/15\n",
            "200/200 [==============================] - 372s 2s/step - loss: 2.0079 - acc: 0.5406 - val_loss: 2.4416 - val_acc: 0.4276\n",
            "Epoch 2/15\n",
            "200/200 [==============================] - 366s 2s/step - loss: 1.8085 - acc: 0.5763 - val_loss: 2.3363 - val_acc: 0.4518\n",
            "Epoch 3/15\n",
            "200/200 [==============================] - 367s 2s/step - loss: 1.7462 - acc: 0.5863 - val_loss: 2.2683 - val_acc: 0.4579\n",
            "Epoch 4/15\n",
            "200/200 [==============================] - 366s 2s/step - loss: 1.7171 - acc: 0.5946 - val_loss: 2.4370 - val_acc: 0.4351\n",
            "Epoch 5/15\n",
            "200/200 [==============================] - 366s 2s/step - loss: 1.6746 - acc: 0.5999 - val_loss: 2.2319 - val_acc: 0.4773\n",
            "Epoch 6/15\n",
            "200/200 [==============================] - 367s 2s/step - loss: 1.6712 - acc: 0.6012 - val_loss: 2.2274 - val_acc: 0.4707\n",
            "Epoch 7/15\n",
            "200/200 [==============================] - 366s 2s/step - loss: 1.6880 - acc: 0.5963 - val_loss: 2.3078 - val_acc: 0.4560\n",
            "Epoch 8/15\n",
            "200/200 [==============================] - 364s 2s/step - loss: 1.6217 - acc: 0.6159 - val_loss: 2.1228 - val_acc: 0.4938\n",
            "Epoch 9/15\n",
            "200/200 [==============================] - 366s 2s/step - loss: 1.4558 - acc: 0.6572 - val_loss: 2.2523 - val_acc: 0.4685\n",
            "Epoch 10/15\n",
            "200/200 [==============================] - 366s 2s/step - loss: 1.4755 - acc: 0.6541 - val_loss: 2.1089 - val_acc: 0.5022\n",
            "Epoch 11/15\n",
            "200/200 [==============================] - 366s 2s/step - loss: 1.4876 - acc: 0.6445 - val_loss: 2.1873 - val_acc: 0.4876\n",
            "Epoch 12/15\n",
            "200/200 [==============================] - 366s 2s/step - loss: 1.4948 - acc: 0.6470 - val_loss: 2.2288 - val_acc: 0.4788\n",
            "Epoch 13/15\n",
            "200/200 [==============================] - 366s 2s/step - loss: 1.4982 - acc: 0.6491 - val_loss: 2.2284 - val_acc: 0.4773\n",
            "Epoch 14/15\n",
            "200/200 [==============================] - 365s 2s/step - loss: 1.4952 - acc: 0.6460 - val_loss: 2.3042 - val_acc: 0.4628\n",
            "Epoch 15/15\n",
            "200/200 [==============================] - 366s 2s/step - loss: 1.4960 - acc: 0.6451 - val_loss: 2.1528 - val_acc: 0.4847\n"
          ],
          "name": "stdout"
        }
      ]
    },
    {
      "cell_type": "markdown",
      "metadata": {
        "id": "YKbchzczZ5rG",
        "colab_type": "text"
      },
      "source": [
        "#Image Augmentation"
      ]
    },
    {
      "cell_type": "code",
      "metadata": {
        "colab_type": "code",
        "id": "uY9B6BcJpxuS",
        "colab": {}
      },
      "source": [
        "from imgaug import augmenters as iaa\n",
        "\n",
        "seq = iaa.SomeOf((0, None), [iaa.Affine(scale=(0.5, 1.5)), iaa.Affine(rotate=20),\n",
        "    iaa.CoarseDropout((0.0, 0.2), size_percent=(0.05, 0.07)), iaa.AdditiveGaussianNoise(scale=0.05*255), iaa.CropAndPad(percent=(-0.25, 0.25))\n",
        "     ])\n",
        "\n",
        "train_datagen = ImageDataGenerator(preprocessing_function=seq.augment_image, rescale=1./255)\n",
        "\n",
        "valid_datagen = ImageDataGenerator(rescale=1./255)"
      ],
      "execution_count": 0,
      "outputs": []
    },
    {
      "cell_type": "code",
      "metadata": {
        "colab_type": "code",
        "outputId": "81171c3c-6dde-40e1-8275-71c9e5a47fa1",
        "id": "JPxmaJdfpxwj",
        "colab": {
          "base_uri": "https://localhost:8080/",
          "height": 35
        }
      },
      "source": [
        "train_generator = train_datagen.flow_from_directory( r'./tiny-imagenet-200/train/', target_size=(64, 64), color_mode='rgb', \n",
        "                                                    batch_size=64, class_mode='categorical', shuffle=True, seed=42)"
      ],
      "execution_count": 0,
      "outputs": [
        {
          "output_type": "stream",
          "text": [
            "Found 100000 images belonging to 200 classes.\n"
          ],
          "name": "stdout"
        }
      ]
    },
    {
      "cell_type": "code",
      "metadata": {
        "colab_type": "code",
        "outputId": "9105613d-f2dc-4f71-ce54-00049916a157",
        "id": "i-QiQmF6pxwo",
        "colab": {
          "base_uri": "https://localhost:8080/",
          "height": 35
        }
      },
      "source": [
        "validation_generator = valid_datagen.flow_from_dataframe(val_data, directory='./tiny-imagenet-200/val/images/', x_col='File', y_col='Class', target_size=(64, 64),\n",
        "                                                    color_mode='rgb', class_mode='categorical', batch_size=64, shuffle=True, seed=42)"
      ],
      "execution_count": 0,
      "outputs": [
        {
          "output_type": "stream",
          "text": [
            "Found 10000 images belonging to 200 classes.\n"
          ],
          "name": "stdout"
        }
      ]
    },
    {
      "cell_type": "code",
      "metadata": {
        "id": "NC8riS_4QbXZ",
        "colab_type": "code",
        "outputId": "b7c7b096-95c1-4bb1-c691-114a6d361567",
        "colab": {
          "base_uri": "https://localhost:8080/",
          "height": 410
        }
      },
      "source": [
        "x_batch, y_batch = next(train_generator)\n",
        "\n",
        "fig = plt.figure(figsize=(14, 5))\n",
        "\n",
        "for i in range(8):\n",
        "    sub = fig.add_subplot(2, 4, i + 1)\n",
        "    sub.imshow(x_batch[i,:,:], interpolation='bilinear')"
      ],
      "execution_count": 0,
      "outputs": [
        {
          "output_type": "stream",
          "text": [
            "Clipping input data to the valid range for imshow with RGB data ([0..1] for floats or [0..255] for integers).\n",
            "Clipping input data to the valid range for imshow with RGB data ([0..1] for floats or [0..255] for integers).\n",
            "Clipping input data to the valid range for imshow with RGB data ([0..1] for floats or [0..255] for integers).\n",
            "Clipping input data to the valid range for imshow with RGB data ([0..1] for floats or [0..255] for integers).\n",
            "Clipping input data to the valid range for imshow with RGB data ([0..1] for floats or [0..255] for integers).\n"
          ],
          "name": "stderr"
        },
        {
          "output_type": "display_data",
          "data": {
            "image/png": "[encoded data removed]",
            "text/plain": [
              "<Figure size 1008x360 with 8 Axes>"
            ]
          },
          "metadata": {
            "tags": []
          }
        }
      ]
    },
    {
      "cell_type": "code",
      "metadata": {
        "id": "yu-V8CS0iWRS",
        "colab_type": "code",
        "outputId": "6d11ac00-eb1c-4ea0-fa89-0a602d2a7545",
        "colab": {
          "base_uri": "https://localhost:8080/",
          "height": 661
        }
      },
      "source": [
        "model = load_model('/content/drive/My Drive/Colab Notebooks/EIP Models/Exp_25_5.h5')\n",
        "\n",
        "model.fit_generator(train_generator, epochs=15, steps_per_epoch=200, validation_steps=200, validation_data=validation_generator, verbose=1)\n",
        "\n",
        "model.save('/content/drive/My Drive/Colab Notebooks/EIP Models/Exp_25_6.h5')"
      ],
      "execution_count": 0,
      "outputs": [
        {
          "output_type": "stream",
          "text": [
            "WARNING:tensorflow:From /usr/local/lib/python3.6/dist-packages/tensorflow/python/framework/op_def_library.py:263: colocate_with (from tensorflow.python.framework.ops) is deprecated and will be removed in a future version.\n",
            "Instructions for updating:\n",
            "Colocations handled automatically by placer.\n",
            "WARNING:tensorflow:From /usr/local/lib/python3.6/dist-packages/tensorflow/python/ops/math_ops.py:3066: to_int32 (from tensorflow.python.ops.math_ops) is deprecated and will be removed in a future version.\n",
            "Instructions for updating:\n",
            "Use tf.cast instead.\n",
            "Epoch 1/15\n",
            "200/200 [==============================] - 382s 2s/step - loss: 2.8627 - acc: 0.3569 - val_loss: 2.7110 - val_acc: 0.3952\n",
            "Epoch 2/15\n",
            "200/200 [==============================] - 360s 2s/step - loss: 2.6453 - acc: 0.3914 - val_loss: 2.4072 - val_acc: 0.4429\n",
            "Epoch 3/15\n",
            "200/200 [==============================] - 360s 2s/step - loss: 2.5821 - acc: 0.4111 - val_loss: 2.5396 - val_acc: 0.4261\n",
            "Epoch 4/15\n",
            "200/200 [==============================] - 359s 2s/step - loss: 2.5369 - acc: 0.4145 - val_loss: 2.5355 - val_acc: 0.4201\n",
            "Epoch 5/15\n",
            "200/200 [==============================] - 360s 2s/step - loss: 2.5000 - acc: 0.4201 - val_loss: 2.4054 - val_acc: 0.4378\n",
            "Epoch 6/15\n",
            "200/200 [==============================] - 360s 2s/step - loss: 2.4910 - acc: 0.4248 - val_loss: 2.3955 - val_acc: 0.4479\n",
            "Epoch 7/15\n",
            "200/200 [==============================] - 360s 2s/step - loss: 2.5049 - acc: 0.4137 - val_loss: 2.3900 - val_acc: 0.4493\n",
            "Epoch 8/15\n",
            "200/200 [==============================] - 368s 2s/step - loss: 2.4515 - acc: 0.4316 - val_loss: 2.3580 - val_acc: 0.4499\n",
            "Epoch 9/15\n",
            "200/200 [==============================] - 361s 2s/step - loss: 2.3837 - acc: 0.4459 - val_loss: 2.4884 - val_acc: 0.4257\n",
            "Epoch 10/15\n",
            "200/200 [==============================] - 360s 2s/step - loss: 2.3759 - acc: 0.4493 - val_loss: 2.4049 - val_acc: 0.4413\n",
            "Epoch 11/15\n",
            "200/200 [==============================] - 360s 2s/step - loss: 2.4008 - acc: 0.4376 - val_loss: 2.4296 - val_acc: 0.4414\n",
            "Epoch 12/15\n",
            "200/200 [==============================] - 361s 2s/step - loss: 2.3758 - acc: 0.4391 - val_loss: 2.2801 - val_acc: 0.4724\n",
            "Epoch 13/15\n",
            "200/200 [==============================] - 360s 2s/step - loss: 2.3497 - acc: 0.4506 - val_loss: 2.3978 - val_acc: 0.4484\n",
            "Epoch 14/15\n",
            "200/200 [==============================] - 359s 2s/step - loss: 2.3477 - acc: 0.4473 - val_loss: 2.2802 - val_acc: 0.4648\n",
            "Epoch 15/15\n",
            "200/200 [==============================] - 360s 2s/step - loss: 2.3532 - acc: 0.4524 - val_loss: 2.3235 - val_acc: 0.4621\n"
          ],
          "name": "stdout"
        }
      ]
    },
    {
      "cell_type": "code",
      "metadata": {
        "id": "ngWSQXS_vWed",
        "colab_type": "code",
        "outputId": "c9c3a3e9-81ce-4e95-aa69-67a6222c3bdc",
        "colab": {
          "base_uri": "https://localhost:8080/",
          "height": 537
        }
      },
      "source": [
        "model = load_model('/content/drive/My Drive/Colab Notebooks/EIP Models/Exp_25_6.h5')\n",
        "\n",
        "model.fit_generator(train_generator, epochs=15, steps_per_epoch=200, validation_steps=200, validation_data=validation_generator, verbose=1)\n",
        "\n",
        "model.save('/content/drive/My Drive/Colab Notebooks/EIP Models/Exp_25_7.h5')"
      ],
      "execution_count": 0,
      "outputs": [
        {
          "output_type": "stream",
          "text": [
            "Epoch 1/15\n",
            "200/200 [==============================] - 365s 2s/step - loss: 2.3833 - acc: 0.4430 - val_loss: 2.2280 - val_acc: 0.4722\n",
            "Epoch 2/15\n",
            "200/200 [==============================] - 363s 2s/step - loss: 2.2865 - acc: 0.4653 - val_loss: 2.2960 - val_acc: 0.4679\n",
            "Epoch 3/15\n",
            "200/200 [==============================] - 363s 2s/step - loss: 2.2779 - acc: 0.4613 - val_loss: 2.3714 - val_acc: 0.4479\n",
            "Epoch 4/15\n",
            "200/200 [==============================] - 362s 2s/step - loss: 2.3223 - acc: 0.4541 - val_loss: 2.2054 - val_acc: 0.4766\n",
            "Epoch 5/15\n",
            "200/200 [==============================] - 362s 2s/step - loss: 2.3297 - acc: 0.4516 - val_loss: 2.2342 - val_acc: 0.4755\n",
            "Epoch 6/15\n",
            "200/200 [==============================] - 362s 2s/step - loss: 2.2897 - acc: 0.4607 - val_loss: 2.2915 - val_acc: 0.4648\n",
            "Epoch 7/15\n",
            "200/200 [==============================] - 361s 2s/step - loss: 2.3102 - acc: 0.4630 - val_loss: 2.2837 - val_acc: 0.4729\n",
            "Epoch 8/15\n",
            "200/200 [==============================] - 361s 2s/step - loss: 2.3223 - acc: 0.4572 - val_loss: 2.2760 - val_acc: 0.4720\n",
            "Epoch 9/15\n",
            "200/200 [==============================] - 361s 2s/step - loss: 2.2406 - acc: 0.4731 - val_loss: 2.1512 - val_acc: 0.4901\n",
            "Epoch 10/15\n",
            "200/200 [==============================] - 361s 2s/step - loss: 2.2517 - acc: 0.4632 - val_loss: 2.2970 - val_acc: 0.4637\n",
            "Epoch 11/15\n",
            "200/200 [==============================] - 361s 2s/step - loss: 2.2138 - acc: 0.4773 - val_loss: 2.1989 - val_acc: 0.4861\n",
            "Epoch 12/15\n",
            "200/200 [==============================] - 362s 2s/step - loss: 2.2350 - acc: 0.4685 - val_loss: 2.2684 - val_acc: 0.4737\n",
            "Epoch 13/15\n",
            "200/200 [==============================] - 362s 2s/step - loss: 2.2366 - acc: 0.4698 - val_loss: 2.3082 - val_acc: 0.4630\n",
            "Epoch 14/15\n",
            "200/200 [==============================] - 362s 2s/step - loss: 2.2756 - acc: 0.4672 - val_loss: 2.4158 - val_acc: 0.4437\n",
            "Epoch 15/15\n",
            "200/200 [==============================] - 363s 2s/step - loss: 2.2313 - acc: 0.4709 - val_loss: 2.2173 - val_acc: 0.4756\n"
          ],
          "name": "stdout"
        }
      ]
    },
    {
      "cell_type": "code",
      "metadata": {
        "id": "O4YBiw7UrQrT",
        "colab_type": "code",
        "outputId": "8f98f693-a4a3-4aed-be3b-29ee2dffb1ec",
        "colab": {
          "base_uri": "https://localhost:8080/",
          "height": 537
        }
      },
      "source": [
        "model = load_model('/content/drive/My Drive/Colab Notebooks/EIP Models/Exp_25_7.h5')\n",
        "\n",
        "model.fit_generator(train_generator, epochs=15, steps_per_epoch=200, validation_steps=200, validation_data=validation_generator, verbose=1)\n",
        "\n",
        "model.save('/content/drive/My Drive/Colab Notebooks/EIP Models/Exp_25_8.h5')"
      ],
      "execution_count": 0,
      "outputs": [
        {
          "output_type": "stream",
          "text": [
            "Epoch 1/15\n",
            "200/200 [==============================] - 367s 2s/step - loss: 2.2663 - acc: 0.4680 - val_loss: 2.2842 - val_acc: 0.4758\n",
            "Epoch 2/15\n",
            "200/200 [==============================] - 362s 2s/step - loss: 2.1773 - acc: 0.4935 - val_loss: 2.2088 - val_acc: 0.4836\n",
            "Epoch 3/15\n",
            "200/200 [==============================] - 362s 2s/step - loss: 2.1583 - acc: 0.4919 - val_loss: 2.2170 - val_acc: 0.4787\n",
            "Epoch 4/15\n",
            "200/200 [==============================] - 362s 2s/step - loss: 2.1747 - acc: 0.4875 - val_loss: 2.2576 - val_acc: 0.4731\n",
            "Epoch 5/15\n",
            "200/200 [==============================] - 362s 2s/step - loss: 2.1979 - acc: 0.4864 - val_loss: 2.3209 - val_acc: 0.4617\n",
            "Epoch 6/15\n",
            "200/200 [==============================] - 362s 2s/step - loss: 2.1850 - acc: 0.4834 - val_loss: 2.2705 - val_acc: 0.4757\n",
            "Epoch 7/15\n",
            "200/200 [==============================] - 362s 2s/step - loss: 2.2168 - acc: 0.4771 - val_loss: 2.1889 - val_acc: 0.4821\n",
            "Epoch 8/15\n",
            "200/200 [==============================] - 362s 2s/step - loss: 2.1966 - acc: 0.4758 - val_loss: 2.1728 - val_acc: 0.4920\n",
            "Epoch 9/15\n",
            "200/200 [==============================] - 362s 2s/step - loss: 2.1975 - acc: 0.4798 - val_loss: 2.1387 - val_acc: 0.4932\n",
            "Epoch 10/15\n",
            "200/200 [==============================] - 362s 2s/step - loss: 2.0984 - acc: 0.5016 - val_loss: 2.2164 - val_acc: 0.4796\n",
            "Epoch 11/15\n",
            "200/200 [==============================] - 362s 2s/step - loss: 2.1107 - acc: 0.4950 - val_loss: 2.2932 - val_acc: 0.4707\n",
            "Epoch 12/15\n",
            "200/200 [==============================] - 362s 2s/step - loss: 2.1231 - acc: 0.4950 - val_loss: 2.2895 - val_acc: 0.4667\n",
            "Epoch 13/15\n",
            "200/200 [==============================] - 362s 2s/step - loss: 2.1528 - acc: 0.4869 - val_loss: 2.2601 - val_acc: 0.4714\n",
            "Epoch 14/15\n",
            "200/200 [==============================] - 361s 2s/step - loss: 2.1335 - acc: 0.4946 - val_loss: 2.1881 - val_acc: 0.4866\n",
            "Epoch 15/15\n",
            "200/200 [==============================] - 362s 2s/step - loss: 2.1610 - acc: 0.4853 - val_loss: 2.1870 - val_acc: 0.4862\n"
          ],
          "name": "stdout"
        }
      ]
    },
    {
      "cell_type": "code",
      "metadata": {
        "id": "5BMzXw6A7VG6",
        "colab_type": "code",
        "outputId": "f59c5996-7f27-490e-9534-9b26256fb6a6",
        "colab": {
          "base_uri": "https://localhost:8080/",
          "height": 537
        }
      },
      "source": [
        "model = load_model('/content/drive/My Drive/Colab Notebooks/EIP Models/Exp_25_8.h5')\n",
        "\n",
        "model.fit_generator(train_generator, epochs=15, steps_per_epoch=200, validation_steps=200, validation_data=validation_generator, verbose=1)\n",
        "\n",
        "model.save('/content/drive/My Drive/Colab Notebooks/EIP Models/Exp_25_9.h5')"
      ],
      "execution_count": 0,
      "outputs": [
        {
          "output_type": "stream",
          "text": [
            "Epoch 1/15\n",
            "200/200 [==============================] - 366s 2s/step - loss: 2.1521 - acc: 0.4890 - val_loss: 2.1257 - val_acc: 0.5005\n",
            "Epoch 2/15\n",
            "200/200 [==============================] - 361s 2s/step - loss: 2.0982 - acc: 0.4981 - val_loss: 2.2512 - val_acc: 0.4745\n",
            "Epoch 3/15\n",
            "200/200 [==============================] - 362s 2s/step - loss: 2.0412 - acc: 0.5166 - val_loss: 2.4439 - val_acc: 0.4402\n",
            "Epoch 4/15\n",
            "200/200 [==============================] - 362s 2s/step - loss: 2.0843 - acc: 0.4982 - val_loss: 2.2887 - val_acc: 0.4633\n",
            "Epoch 5/15\n",
            "200/200 [==============================] - 362s 2s/step - loss: 2.0836 - acc: 0.5081 - val_loss: 2.1877 - val_acc: 0.4895\n",
            "Epoch 6/15\n",
            "200/200 [==============================] - 362s 2s/step - loss: 2.0756 - acc: 0.5077 - val_loss: 2.1564 - val_acc: 0.4969\n",
            "Epoch 7/15\n",
            "200/200 [==============================] - 363s 2s/step - loss: 2.1002 - acc: 0.5034 - val_loss: 2.2122 - val_acc: 0.4800\n",
            "Epoch 8/15\n",
            "200/200 [==============================] - 362s 2s/step - loss: 2.0931 - acc: 0.5013 - val_loss: 2.1078 - val_acc: 0.4987\n",
            "Epoch 9/15\n",
            "200/200 [==============================] - 362s 2s/step - loss: 2.0962 - acc: 0.5001 - val_loss: 2.2246 - val_acc: 0.4819\n",
            "Epoch 10/15\n",
            "200/200 [==============================] - 361s 2s/step - loss: 2.0600 - acc: 0.5054 - val_loss: 2.1572 - val_acc: 0.4998\n",
            "Epoch 11/15\n",
            "200/200 [==============================] - 362s 2s/step - loss: 2.0202 - acc: 0.5227 - val_loss: 2.1397 - val_acc: 0.5006\n",
            "Epoch 12/15\n",
            "200/200 [==============================] - 362s 2s/step - loss: 2.0146 - acc: 0.5194 - val_loss: 2.0847 - val_acc: 0.5143\n",
            "Epoch 13/15\n",
            "200/200 [==============================] - 361s 2s/step - loss: 2.0489 - acc: 0.5073 - val_loss: 2.1758 - val_acc: 0.4939\n",
            "Epoch 14/15\n",
            "200/200 [==============================] - 362s 2s/step - loss: 2.0337 - acc: 0.5135 - val_loss: 2.1819 - val_acc: 0.4936\n",
            "Epoch 15/15\n",
            "200/200 [==============================] - 362s 2s/step - loss: 2.0462 - acc: 0.5108 - val_loss: 2.1928 - val_acc: 0.4902\n"
          ],
          "name": "stdout"
        }
      ]
    },
    {
      "cell_type": "code",
      "metadata": {
        "id": "3FhGaSe4JRZV",
        "colab_type": "code",
        "outputId": "1761aa2a-e470-4064-924b-80b4427abf28",
        "colab": {
          "base_uri": "https://localhost:8080/",
          "height": 537
        }
      },
      "source": [
        "model = load_model('/content/drive/My Drive/Colab Notebooks/EIP Models/Exp_25_9.h5')\n",
        "\n",
        "model.fit_generator(train_generator, epochs=15, steps_per_epoch=200, validation_steps=200, validation_data=validation_generator, verbose=1)\n",
        "\n",
        "model.save('/content/drive/My Drive/Colab Notebooks/EIP Models/Exp_25_10.h5')"
      ],
      "execution_count": 0,
      "outputs": [
        {
          "output_type": "stream",
          "text": [
            "Epoch 1/15\n",
            "200/200 [==============================] - 367s 2s/step - loss: 1.9811 - acc: 0.5243 - val_loss: 2.2030 - val_acc: 0.4866\n",
            "Epoch 2/15\n",
            "200/200 [==============================] - 362s 2s/step - loss: 1.9912 - acc: 0.5199 - val_loss: 2.1993 - val_acc: 0.4882\n",
            "Epoch 3/15\n",
            "200/200 [==============================] - 362s 2s/step - loss: 2.0057 - acc: 0.5184 - val_loss: 2.2174 - val_acc: 0.4799\n",
            "Epoch 4/15\n",
            "200/200 [==============================] - 362s 2s/step - loss: 2.0149 - acc: 0.5167 - val_loss: 2.3835 - val_acc: 0.4561\n",
            "Epoch 5/15\n",
            "200/200 [==============================] - 361s 2s/step - loss: 1.9944 - acc: 0.5245 - val_loss: 2.1740 - val_acc: 0.4949\n",
            "Epoch 6/15\n",
            "200/200 [==============================] - 361s 2s/step - loss: 1.9915 - acc: 0.5223 - val_loss: 2.1827 - val_acc: 0.4881\n",
            "Epoch 7/15\n",
            "200/200 [==============================] - 362s 2s/step - loss: 1.9763 - acc: 0.5294 - val_loss: 2.1332 - val_acc: 0.5010\n",
            "Epoch 8/15\n",
            "200/200 [==============================] - 362s 2s/step - loss: 1.9436 - acc: 0.5328 - val_loss: 2.1748 - val_acc: 0.4954\n",
            "Epoch 9/15\n",
            "200/200 [==============================] - 361s 2s/step - loss: 1.9742 - acc: 0.5253 - val_loss: 2.1023 - val_acc: 0.5039\n",
            "Epoch 10/15\n",
            "200/200 [==============================] - 361s 2s/step - loss: 1.9667 - acc: 0.5327 - val_loss: 2.0895 - val_acc: 0.5097\n",
            "Epoch 11/15\n",
            "200/200 [==============================] - 361s 2s/step - loss: 1.9606 - acc: 0.5292 - val_loss: 2.1037 - val_acc: 0.5047\n",
            "Epoch 12/15\n",
            "200/200 [==============================] - 360s 2s/step - loss: 1.9778 - acc: 0.5269 - val_loss: 2.0701 - val_acc: 0.5128\n",
            "Epoch 13/15\n",
            "200/200 [==============================] - 361s 2s/step - loss: 1.9615 - acc: 0.5224 - val_loss: 2.1167 - val_acc: 0.5013\n",
            "Epoch 14/15\n",
            "200/200 [==============================] - 361s 2s/step - loss: 1.9869 - acc: 0.5188 - val_loss: 2.0950 - val_acc: 0.4992\n",
            "Epoch 15/15\n",
            "200/200 [==============================] - 360s 2s/step - loss: 1.9906 - acc: 0.5219 - val_loss: 2.0837 - val_acc: 0.5103\n"
          ],
          "name": "stdout"
        }
      ]
    },
    {
      "cell_type": "code",
      "metadata": {
        "id": "3WOp_Fh4s2fd",
        "colab_type": "code",
        "outputId": "15677d96-0606-48c0-b41e-9b7a98137b35",
        "colab": {
          "base_uri": "https://localhost:8080/",
          "height": 609
        }
      },
      "source": [
        "model = load_model('/content/drive/My Drive/Colab Notebooks/EIP Models/Exp_25_10.h5')\n",
        "\n",
        "model.fit_generator(train_generator, epochs=15, steps_per_epoch=200, validation_steps=200, validation_data=validation_generator, verbose=1)\n",
        "\n",
        "model.save('/content/drive/My Drive/Colab Notebooks/EIP Models/Exp_25_11.h5')"
      ],
      "execution_count": 0,
      "outputs": [
        {
          "output_type": "stream",
          "text": [
            "WARNING:tensorflow:From /usr/local/lib/python3.6/dist-packages/tensorflow/python/ops/math_ops.py:3066: to_int32 (from tensorflow.python.ops.math_ops) is deprecated and will be removed in a future version.\n",
            "Instructions for updating:\n",
            "Use tf.cast instead.\n",
            "Epoch 1/15\n",
            "200/200 [==============================] - 368s 2s/step - loss: 1.8977 - acc: 0.5450 - val_loss: 2.0854 - val_acc: 0.5118\n",
            "Epoch 2/15\n",
            "200/200 [==============================] - 348s 2s/step - loss: 1.9261 - acc: 0.5409 - val_loss: 2.0325 - val_acc: 0.5218\n",
            "Epoch 3/15\n",
            "200/200 [==============================] - 347s 2s/step - loss: 1.9013 - acc: 0.5430 - val_loss: 2.0751 - val_acc: 0.5155\n",
            "Epoch 4/15\n",
            "200/200 [==============================] - 347s 2s/step - loss: 1.9180 - acc: 0.5359 - val_loss: 2.0963 - val_acc: 0.5062\n",
            "Epoch 5/15\n",
            "200/200 [==============================] - 347s 2s/step - loss: 1.9230 - acc: 0.5390 - val_loss: 2.0226 - val_acc: 0.5212\n",
            "Epoch 6/15\n",
            "200/200 [==============================] - 348s 2s/step - loss: 1.9247 - acc: 0.5320 - val_loss: 2.1358 - val_acc: 0.4959\n",
            "Epoch 7/15\n",
            "200/200 [==============================] - 346s 2s/step - loss: 1.9261 - acc: 0.5364 - val_loss: 2.2188 - val_acc: 0.4911\n",
            "Epoch 8/15\n",
            "200/200 [==============================] - 355s 2s/step - loss: 1.9244 - acc: 0.5355 - val_loss: 2.0558 - val_acc: 0.5117\n",
            "Epoch 9/15\n",
            "200/200 [==============================] - 347s 2s/step - loss: 1.8396 - acc: 0.5589 - val_loss: 2.0781 - val_acc: 0.5130\n",
            "Epoch 10/15\n",
            "200/200 [==============================] - 347s 2s/step - loss: 1.8489 - acc: 0.5553 - val_loss: 2.0734 - val_acc: 0.5049\n",
            "Epoch 11/15\n",
            "200/200 [==============================] - 346s 2s/step - loss: 1.8650 - acc: 0.5465 - val_loss: 2.0496 - val_acc: 0.5203\n",
            "Epoch 12/15\n",
            "200/200 [==============================] - 347s 2s/step - loss: 1.8751 - acc: 0.5524 - val_loss: 2.0129 - val_acc: 0.5285\n",
            "Epoch 13/15\n",
            "200/200 [==============================] - 347s 2s/step - loss: 1.8640 - acc: 0.5517 - val_loss: 2.0945 - val_acc: 0.5095\n",
            "Epoch 14/15\n",
            "200/200 [==============================] - 347s 2s/step - loss: 1.8578 - acc: 0.5489 - val_loss: 2.0315 - val_acc: 0.5208\n",
            "Epoch 15/15\n",
            "200/200 [==============================] - 349s 2s/step - loss: 1.8699 - acc: 0.5509 - val_loss: 2.0415 - val_acc: 0.5231\n"
          ],
          "name": "stdout"
        }
      ]
    },
    {
      "cell_type": "code",
      "metadata": {
        "id": "Yh0K2l76yJvB",
        "colab_type": "code",
        "outputId": "25076bb0-838a-4e99-8841-d2bbcf0d3e0d",
        "colab": {
          "base_uri": "https://localhost:8080/",
          "height": 537
        }
      },
      "source": [
        "model = load_model('/content/drive/My Drive/Colab Notebooks/EIP Models/Exp_25_11.h5')\n",
        "\n",
        "model.fit_generator(train_generator, epochs=15, steps_per_epoch=200, validation_steps=200, validation_data=validation_generator, verbose=1)\n",
        "\n",
        "model.save('/content/drive/My Drive/Colab Notebooks/EIP Models/Exp_25_12.h5')"
      ],
      "execution_count": 0,
      "outputs": [
        {
          "output_type": "stream",
          "text": [
            "Epoch 1/15\n",
            "200/200 [==============================] - 354s 2s/step - loss: 1.7889 - acc: 0.5675 - val_loss: 2.1402 - val_acc: 0.5017\n",
            "Epoch 2/15\n",
            "200/200 [==============================] - 347s 2s/step - loss: 1.8288 - acc: 0.5596 - val_loss: 2.0741 - val_acc: 0.5140\n",
            "Epoch 3/15\n",
            "200/200 [==============================] - 348s 2s/step - loss: 1.8203 - acc: 0.5613 - val_loss: 2.0446 - val_acc: 0.5251\n",
            "Epoch 4/15\n",
            "200/200 [==============================] - 348s 2s/step - loss: 1.8302 - acc: 0.5534 - val_loss: 2.1222 - val_acc: 0.5022\n",
            "Epoch 5/15\n",
            "200/200 [==============================] - 347s 2s/step - loss: 1.8313 - acc: 0.5544 - val_loss: 2.0407 - val_acc: 0.5227\n",
            "Epoch 6/15\n",
            "200/200 [==============================] - 348s 2s/step - loss: 1.8224 - acc: 0.5617 - val_loss: 2.0687 - val_acc: 0.5167\n",
            "Epoch 7/15\n",
            "200/200 [==============================] - 348s 2s/step - loss: 1.8544 - acc: 0.5559 - val_loss: 2.0957 - val_acc: 0.5150\n",
            "Epoch 8/15\n",
            "200/200 [==============================] - 346s 2s/step - loss: 1.8123 - acc: 0.5654 - val_loss: 2.0181 - val_acc: 0.5272\n",
            "Epoch 9/15\n",
            "200/200 [==============================] - 348s 2s/step - loss: 1.7418 - acc: 0.5766 - val_loss: 2.0364 - val_acc: 0.5218\n",
            "Epoch 10/15\n",
            "200/200 [==============================] - 348s 2s/step - loss: 1.7635 - acc: 0.5766 - val_loss: 2.0133 - val_acc: 0.5275\n",
            "Epoch 11/15\n",
            "200/200 [==============================] - 347s 2s/step - loss: 1.7759 - acc: 0.5640 - val_loss: 2.1445 - val_acc: 0.5042\n",
            "Epoch 12/15\n",
            "200/200 [==============================] - 348s 2s/step - loss: 1.7879 - acc: 0.5646 - val_loss: 2.1316 - val_acc: 0.5056\n",
            "Epoch 13/15\n",
            "200/200 [==============================] - 347s 2s/step - loss: 1.7782 - acc: 0.5699 - val_loss: 2.0688 - val_acc: 0.5158\n",
            "Epoch 14/15\n",
            "200/200 [==============================] - 347s 2s/step - loss: 1.7860 - acc: 0.5641 - val_loss: 2.0866 - val_acc: 0.5165\n",
            "Epoch 15/15\n",
            "200/200 [==============================] - 347s 2s/step - loss: 1.7874 - acc: 0.5715 - val_loss: 2.1434 - val_acc: 0.5062\n"
          ],
          "name": "stdout"
        }
      ]
    },
    {
      "cell_type": "code",
      "metadata": {
        "id": "aQK9GFu6-B37",
        "colab_type": "code",
        "outputId": "d68214f4-f1cf-4e1a-ab13-34794851d182",
        "colab": {
          "base_uri": "https://localhost:8080/",
          "height": 609
        }
      },
      "source": [
        "model = load_model('/content/drive/My Drive/Colab Notebooks/EIP Models/Exp_25_12.h5')\n",
        "\n",
        "model.fit_generator(train_generator, epochs=15, steps_per_epoch=200, validation_steps=200, validation_data=validation_generator, verbose=1, callbacks=[lr_reducer])\n",
        "\n",
        "model.save('/content/drive/My Drive/Colab Notebooks/EIP Models/Exp_25_13.h5')"
      ],
      "execution_count": 0,
      "outputs": [
        {
          "output_type": "stream",
          "text": [
            "WARNING:tensorflow:From /usr/local/lib/python3.6/dist-packages/tensorflow/python/ops/math_ops.py:3066: to_int32 (from tensorflow.python.ops.math_ops) is deprecated and will be removed in a future version.\n",
            "Instructions for updating:\n",
            "Use tf.cast instead.\n",
            "Epoch 1/15\n",
            "200/200 [==============================] - 390s 2s/step - loss: 1.6067 - acc: 0.6187 - val_loss: 2.0142 - val_acc: 0.5257\n",
            "Epoch 2/15\n",
            "200/200 [==============================] - 365s 2s/step - loss: 1.6079 - acc: 0.6155 - val_loss: 2.0256 - val_acc: 0.5267\n",
            "Epoch 3/15\n",
            "200/200 [==============================] - 365s 2s/step - loss: 1.5738 - acc: 0.6269 - val_loss: 2.0561 - val_acc: 0.5211\n",
            "Epoch 4/15\n",
            "200/200 [==============================] - 364s 2s/step - loss: 1.5915 - acc: 0.6181 - val_loss: 2.0679 - val_acc: 0.5176\n",
            "Epoch 5/15\n",
            "200/200 [==============================] - 365s 2s/step - loss: 1.5954 - acc: 0.6158 - val_loss: 1.9966 - val_acc: 0.5287\n",
            "Epoch 6/15\n",
            "200/200 [==============================] - 365s 2s/step - loss: 1.5931 - acc: 0.6189 - val_loss: 2.1341 - val_acc: 0.5026\n",
            "Epoch 7/15\n",
            "200/200 [==============================] - 365s 2s/step - loss: 1.5928 - acc: 0.6166 - val_loss: 2.1717 - val_acc: 0.5067\n",
            "Epoch 8/15\n",
            "200/200 [==============================] - 372s 2s/step - loss: 1.5879 - acc: 0.6202 - val_loss: 2.0135 - val_acc: 0.5321\n",
            "Epoch 9/15\n",
            "200/200 [==============================] - 365s 2s/step - loss: 1.5084 - acc: 0.6443 - val_loss: 2.0583 - val_acc: 0.5209\n",
            "Epoch 10/15\n",
            "200/200 [==============================] - 365s 2s/step - loss: 1.5104 - acc: 0.6399 - val_loss: 2.0645 - val_acc: 0.5143\n",
            "Epoch 11/15\n",
            "200/200 [==============================] - 365s 2s/step - loss: 1.4687 - acc: 0.6458 - val_loss: 1.8322 - val_acc: 0.5686\n",
            "Epoch 12/15\n",
            "200/200 [==============================] - 365s 2s/step - loss: 1.4321 - acc: 0.6569 - val_loss: 1.8244 - val_acc: 0.5728\n",
            "Epoch 13/15\n",
            "200/200 [==============================] - 365s 2s/step - loss: 1.3945 - acc: 0.6673 - val_loss: 1.8388 - val_acc: 0.5628\n",
            "Epoch 14/15\n",
            "200/200 [==============================] - 365s 2s/step - loss: 1.3741 - acc: 0.6696 - val_loss: 1.8338 - val_acc: 0.5669\n",
            "Epoch 15/15\n",
            "200/200 [==============================] - 364s 2s/step - loss: 1.3720 - acc: 0.6753 - val_loss: 1.8138 - val_acc: 0.5705\n"
          ],
          "name": "stdout"
        }
      ]
    },
    {
      "cell_type": "code",
      "metadata": {
        "id": "BK6WZCO4-ELs",
        "colab_type": "code",
        "outputId": "88bce82e-1f7e-4263-9890-4bc4117bd1f0",
        "colab": {
          "base_uri": "https://localhost:8080/",
          "height": 609
        }
      },
      "source": [
        "model = load_model('/content/drive/My Drive/Colab Notebooks/EIP Models/Exp_25_13.h5')\n",
        "\n",
        "model.fit_generator(train_generator, epochs=15, steps_per_epoch=200, validation_steps=200, validation_data=validation_generator, verbose=1, callbacks=[lr_reducer])\n",
        "\n",
        "model.save('/content/drive/My Drive/Colab Notebooks/EIP Models/Exp_25_14.h5')"
      ],
      "execution_count": 0,
      "outputs": [
        {
          "output_type": "stream",
          "text": [
            "WARNING:tensorflow:From /usr/local/lib/python3.6/dist-packages/tensorflow/python/ops/math_ops.py:3066: to_int32 (from tensorflow.python.ops.math_ops) is deprecated and will be removed in a future version.\n",
            "Instructions for updating:\n",
            "Use tf.cast instead.\n",
            "Epoch 1/15\n",
            "200/200 [==============================] - 380s 2s/step - loss: 1.2164 - acc: 0.7241 - val_loss: 1.8155 - val_acc: 0.5692\n",
            "Epoch 2/15\n",
            "200/200 [==============================] - 357s 2s/step - loss: 1.1886 - acc: 0.7307 - val_loss: 1.8174 - val_acc: 0.5707\n",
            "Epoch 3/15\n",
            "200/200 [==============================] - 357s 2s/step - loss: 1.1492 - acc: 0.7439 - val_loss: 1.8298 - val_acc: 0.5716\n",
            "Epoch 4/15\n",
            "200/200 [==============================] - 356s 2s/step - loss: 1.1399 - acc: 0.7462 - val_loss: 1.8449 - val_acc: 0.5670\n",
            "Epoch 5/15\n",
            "200/200 [==============================] - 357s 2s/step - loss: 1.1312 - acc: 0.7476 - val_loss: 1.8500 - val_acc: 0.5663\n",
            "Epoch 6/15\n",
            "200/200 [==============================] - 357s 2s/step - loss: 1.1073 - acc: 0.7575 - val_loss: 1.8488 - val_acc: 0.5644\n",
            "Epoch 7/15\n",
            "200/200 [==============================] - 357s 2s/step - loss: 1.1002 - acc: 0.7579 - val_loss: 1.7843 - val_acc: 0.5773\n",
            "Epoch 8/15\n",
            "200/200 [==============================] - 365s 2s/step - loss: 1.0793 - acc: 0.7595 - val_loss: 1.7738 - val_acc: 0.5833\n",
            "Epoch 9/15\n",
            "200/200 [==============================] - 358s 2s/step - loss: 1.0075 - acc: 0.7849 - val_loss: 1.7758 - val_acc: 0.5812\n",
            "Epoch 10/15\n",
            "200/200 [==============================] - 358s 2s/step - loss: 0.9855 - acc: 0.7913 - val_loss: 1.7612 - val_acc: 0.5814\n",
            "Epoch 11/15\n",
            "200/200 [==============================] - 357s 2s/step - loss: 1.1961 - acc: 0.7226 - val_loss: 1.7677 - val_acc: 0.5830\n",
            "Epoch 12/15\n",
            "200/200 [==============================] - 357s 2s/step - loss: 1.1880 - acc: 0.7280 - val_loss: 1.7615 - val_acc: 0.5844\n",
            "Epoch 13/15\n",
            "200/200 [==============================] - 357s 2s/step - loss: 1.1622 - acc: 0.7343 - val_loss: 1.7822 - val_acc: 0.5798\n",
            "Epoch 14/15\n",
            "200/200 [==============================] - 357s 2s/step - loss: 1.1461 - acc: 0.7363 - val_loss: 1.7667 - val_acc: 0.5838\n",
            "Epoch 15/15\n",
            "200/200 [==============================] - 357s 2s/step - loss: 1.1470 - acc: 0.7410 - val_loss: 1.7726 - val_acc: 0.5811\n"
          ],
          "name": "stdout"
        }
      ]
    },
    {
      "cell_type": "code",
      "metadata": {
        "id": "OfCDWePn-E7T",
        "colab_type": "code",
        "outputId": "514a635b-1758-496f-ecff-dfb40ad1b2a3",
        "colab": {
          "base_uri": "https://localhost:8080/",
          "height": 537
        }
      },
      "source": [
        "model = load_model('/content/drive/My Drive/Colab Notebooks/EIP Models/Exp_25_14.h5')\n",
        "\n",
        "model.fit_generator(train_generator, epochs=15, steps_per_epoch=200, validation_steps=200, validation_data=validation_generator, verbose=1, callbacks=[lr_reducer])\n",
        "\n",
        "model.save('/content/drive/My Drive/Colab Notebooks/EIP Models/Exp_25_15.h5')"
      ],
      "execution_count": 0,
      "outputs": [
        {
          "output_type": "stream",
          "text": [
            "Epoch 1/15\n",
            "200/200 [==============================] - 360s 2s/step - loss: 1.5404 - acc: 0.6245 - val_loss: 1.7478 - val_acc: 0.5865\n",
            "Epoch 2/15\n",
            "200/200 [==============================] - 358s 2s/step - loss: 1.4405 - acc: 0.6481 - val_loss: 1.7474 - val_acc: 0.5903\n",
            "Epoch 3/15\n",
            "200/200 [==============================] - 357s 2s/step - loss: 1.4057 - acc: 0.6598 - val_loss: 1.7395 - val_acc: 0.5904\n",
            "Epoch 4/15\n",
            "200/200 [==============================] - 358s 2s/step - loss: 1.4201 - acc: 0.6554 - val_loss: 1.7497 - val_acc: 0.5848\n",
            "Epoch 5/15\n",
            "200/200 [==============================] - 358s 2s/step - loss: 1.4346 - acc: 0.6535 - val_loss: 1.7248 - val_acc: 0.5938\n",
            "Epoch 6/15\n",
            "200/200 [==============================] - 359s 2s/step - loss: 1.3880 - acc: 0.6651 - val_loss: 1.7464 - val_acc: 0.5864\n",
            "Epoch 7/15\n",
            "200/200 [==============================] - 358s 2s/step - loss: 1.4110 - acc: 0.6619 - val_loss: 1.7356 - val_acc: 0.5902\n",
            "Epoch 8/15\n",
            "200/200 [==============================] - 359s 2s/step - loss: 1.4199 - acc: 0.6548 - val_loss: 1.7552 - val_acc: 0.5851\n",
            "Epoch 9/15\n",
            "200/200 [==============================] - 358s 2s/step - loss: 1.4006 - acc: 0.6643 - val_loss: 1.7101 - val_acc: 0.5977\n",
            "Epoch 10/15\n",
            "200/200 [==============================] - 359s 2s/step - loss: 1.4241 - acc: 0.6547 - val_loss: 1.7504 - val_acc: 0.5838\n",
            "Epoch 11/15\n",
            "200/200 [==============================] - 358s 2s/step - loss: 1.3774 - acc: 0.6683 - val_loss: 1.7350 - val_acc: 0.5898\n",
            "Epoch 12/15\n",
            "200/200 [==============================] - 359s 2s/step - loss: 1.3867 - acc: 0.6640 - val_loss: 1.7261 - val_acc: 0.5914\n",
            "Epoch 13/15\n",
            "200/200 [==============================] - 359s 2s/step - loss: 1.3926 - acc: 0.6655 - val_loss: 1.7406 - val_acc: 0.5887\n",
            "Epoch 14/15\n",
            "200/200 [==============================] - 358s 2s/step - loss: 1.4231 - acc: 0.6601 - val_loss: 1.7314 - val_acc: 0.5919\n",
            "Epoch 15/15\n",
            "200/200 [==============================] - 358s 2s/step - loss: 1.3878 - acc: 0.6628 - val_loss: 1.7310 - val_acc: 0.5874\n"
          ],
          "name": "stdout"
        }
      ]
    },
    {
      "cell_type": "code",
      "metadata": {
        "id": "QCaL-x2d-FUH",
        "colab_type": "code",
        "outputId": "5dd7bd80-ca9d-47e7-d7a2-8783d66fbd26",
        "colab": {
          "base_uri": "https://localhost:8080/",
          "height": 537
        }
      },
      "source": [
        "model = load_model('/content/drive/My Drive/Colab Notebooks/EIP Models/Exp_25_15.h5')\n",
        "\n",
        "model.fit_generator(train_generator, epochs=15, steps_per_epoch=200, validation_steps=200, validation_data=validation_generator, verbose=1, callbacks=[lr_reducer])\n",
        "\n",
        "model.save('/content/drive/My Drive/Colab Notebooks/EIP Models/Exp_25_16.h5')"
      ],
      "execution_count": 0,
      "outputs": [
        {
          "output_type": "stream",
          "text": [
            "Epoch 1/15\n",
            "200/200 [==============================] - 363s 2s/step - loss: 1.4273 - acc: 0.6569 - val_loss: 1.7375 - val_acc: 0.5905\n",
            "Epoch 2/15\n",
            "200/200 [==============================] - 357s 2s/step - loss: 1.4040 - acc: 0.6619 - val_loss: 1.7232 - val_acc: 0.5896\n",
            "Epoch 3/15\n",
            "200/200 [==============================] - 358s 2s/step - loss: 1.3838 - acc: 0.6679 - val_loss: 1.7398 - val_acc: 0.5878\n",
            "Epoch 4/15\n",
            "200/200 [==============================] - 358s 2s/step - loss: 1.3816 - acc: 0.6665 - val_loss: 1.7201 - val_acc: 0.5927\n",
            "Epoch 5/15\n",
            "200/200 [==============================] - 359s 2s/step - loss: 1.3995 - acc: 0.6627 - val_loss: 1.7309 - val_acc: 0.5943\n",
            "Epoch 6/15\n",
            "200/200 [==============================] - 358s 2s/step - loss: 1.4008 - acc: 0.6628 - val_loss: 1.7266 - val_acc: 0.5897\n",
            "Epoch 7/15\n",
            "200/200 [==============================] - 358s 2s/step - loss: 1.4042 - acc: 0.6602 - val_loss: 1.7276 - val_acc: 0.5918\n",
            "Epoch 8/15\n",
            "200/200 [==============================] - 358s 2s/step - loss: 1.3884 - acc: 0.6645 - val_loss: 1.7265 - val_acc: 0.5936\n",
            "Epoch 9/15\n",
            "200/200 [==============================] - 357s 2s/step - loss: 1.4074 - acc: 0.6635 - val_loss: 1.7293 - val_acc: 0.5921\n",
            "Epoch 10/15\n",
            "200/200 [==============================] - 358s 2s/step - loss: 1.3835 - acc: 0.6664 - val_loss: 1.7358 - val_acc: 0.5893\n",
            "Epoch 11/15\n",
            "200/200 [==============================] - 358s 2s/step - loss: 1.3779 - acc: 0.6660 - val_loss: 1.7230 - val_acc: 0.5938\n",
            "Epoch 12/15\n",
            "200/200 [==============================] - 358s 2s/step - loss: 1.3968 - acc: 0.6645 - val_loss: 1.7454 - val_acc: 0.5864\n",
            "Epoch 13/15\n",
            "200/200 [==============================] - 358s 2s/step - loss: 1.4067 - acc: 0.6584 - val_loss: 1.7193 - val_acc: 0.5940\n",
            "Epoch 14/15\n",
            "200/200 [==============================] - 358s 2s/step - loss: 1.4144 - acc: 0.6581 - val_loss: 1.7227 - val_acc: 0.5902\n",
            "Epoch 15/15\n",
            "200/200 [==============================] - 358s 2s/step - loss: 1.4103 - acc: 0.6613 - val_loss: 1.7368 - val_acc: 0.5899\n"
          ],
          "name": "stdout"
        }
      ]
    },
    {
      "cell_type": "code",
      "metadata": {
        "id": "ZdRXCaX914mk",
        "colab_type": "code",
        "colab": {}
      },
      "source": [
        "checkpoint = ModelCheckpoint('/content/drive/My Drive/Colab Notebooks/EIP Models/{epoch:02d}-{val_acc:.2f}.hdf5', monitor='val_acc', verbose=1, save_best_only=True, save_weights_only=False, mode='auto', period=1)"
      ],
      "execution_count": 0,
      "outputs": []
    },
    {
      "cell_type": "code",
      "metadata": {
        "id": "5mGnCwjbjwLD",
        "colab_type": "code",
        "outputId": "ee883e3d-7939-4373-ce14-e375af814df1",
        "colab": {
          "base_uri": "https://localhost:8080/",
          "height": 711
        }
      },
      "source": [
        "model = load_model('/content/drive/My Drive/Colab Notebooks/EIP Models/Exp_25_16.h5')\n",
        "\n",
        "model.fit_generator(train_generator, epochs=10, steps_per_epoch=200, validation_steps=200, validation_data=validation_generator, verbose=1, callbacks=[lr_reducer, checkpoint])\n",
        "\n",
        "model.save('/content/drive/My Drive/Colab Notebooks/EIP Models/Exp_25_17.h5')"
      ],
      "execution_count": 0,
      "outputs": [
        {
          "output_type": "stream",
          "text": [
            "Epoch 1/10\n",
            "200/200 [==============================] - 365s 2s/step - loss: 1.4030 - acc: 0.6616 - val_loss: 1.7339 - val_acc: 0.5916\n",
            "\n",
            "Epoch 00001: val_acc improved from -inf to 0.59159, saving model to /content/drive/My Drive/Colab Notebooks/EIP Models/01-0.59.hdf5\n",
            "Epoch 2/10\n",
            "200/200 [==============================] - 359s 2s/step - loss: 1.3881 - acc: 0.6642 - val_loss: 1.7303 - val_acc: 0.5899\n",
            "\n",
            "Epoch 00002: val_acc did not improve from 0.59159\n",
            "Epoch 3/10\n",
            "200/200 [==============================] - 359s 2s/step - loss: 1.3769 - acc: 0.6645 - val_loss: 1.7168 - val_acc: 0.5929\n",
            "\n",
            "Epoch 00003: val_acc improved from 0.59159 to 0.59288, saving model to /content/drive/My Drive/Colab Notebooks/EIP Models/03-0.59.hdf5\n",
            "Epoch 4/10\n",
            "200/200 [==============================] - 359s 2s/step - loss: 1.3691 - acc: 0.6767 - val_loss: 1.7424 - val_acc: 0.5885\n",
            "\n",
            "Epoch 00004: val_acc did not improve from 0.59288\n",
            "Epoch 5/10\n",
            "200/200 [==============================] - 359s 2s/step - loss: 1.3985 - acc: 0.6605 - val_loss: 1.7172 - val_acc: 0.5920\n",
            "\n",
            "Epoch 00005: val_acc did not improve from 0.59288\n",
            "Epoch 6/10\n",
            "200/200 [==============================] - 359s 2s/step - loss: 1.3788 - acc: 0.6691 - val_loss: 1.7337 - val_acc: 0.5904\n",
            "\n",
            "Epoch 00006: val_acc did not improve from 0.59288\n",
            "Epoch 7/10\n",
            "200/200 [==============================] - 358s 2s/step - loss: 1.3509 - acc: 0.6759 - val_loss: 1.7301 - val_acc: 0.5904\n",
            "\n",
            "Epoch 00007: val_acc did not improve from 0.59288\n",
            "Epoch 8/10\n",
            "200/200 [==============================] - 359s 2s/step - loss: 1.3402 - acc: 0.6793 - val_loss: 1.7188 - val_acc: 0.5933\n",
            "\n",
            "Epoch 00008: val_acc improved from 0.59288 to 0.59332, saving model to /content/drive/My Drive/Colab Notebooks/EIP Models/08-0.59.hdf5\n",
            "Epoch 9/10\n",
            "200/200 [==============================] - 359s 2s/step - loss: 1.3377 - acc: 0.6752 - val_loss: 1.7285 - val_acc: 0.5921\n",
            "\n",
            "Epoch 00009: val_acc did not improve from 0.59332\n",
            "Epoch 10/10\n",
            "200/200 [==============================] - 359s 2s/step - loss: 1.3909 - acc: 0.6650 - val_loss: 1.7367 - val_acc: 0.5871\n",
            "\n",
            "Epoch 00010: val_acc did not improve from 0.59332\n"
          ],
          "name": "stdout"
        }
      ]
    },
    {
      "cell_type": "markdown",
      "metadata": {
        "id": "kgq7cgymat1Y",
        "colab_type": "text"
      },
      "source": [
        "#Model Evaluation"
      ]
    },
    {
      "cell_type": "code",
      "metadata": {
        "id": "oe98jZ7kaAdJ",
        "colab_type": "code",
        "colab": {}
      },
      "source": [
        "valid_datagen = ImageDataGenerator(rescale=1./255)\n",
        "validation_generator = valid_datagen.flow_from_dataframe(val_data, directory='./tiny-imagenet-200/val/images/', x_col='File', y_col='Class', target_size=(64, 64),\n",
        "                                                    color_mode='rgb', class_mode='categorical', batch_size=64, shuffle=True, seed=42)"
      ],
      "execution_count": 0,
      "outputs": []
    },
    {
      "cell_type": "code",
      "metadata": {
        "colab_type": "code",
        "id": "rN0oEHEpY70E",
        "outputId": "bdf38b8a-1699-4b7d-a21d-48f6120da698",
        "colab": {
          "base_uri": "https://localhost:8080/",
          "height": 69
        }
      },
      "source": [
        "model = load_model('/content/drive/My Drive/Colab Notebooks/EIP Models/08-0.59.hdf5')\n",
        "\n",
        "validation_steps_per_epoch = np.math.ceil(validation_generator.samples / validation_generator.batch_size)\n",
        "\n",
        "score = model.evaluate_generator(validation_generator, verbose=1, steps=validation_steps_per_epoch)\n",
        "print('Test loss:', score[0])\n",
        "print('Test accuracy:', score[1])"
      ],
      "execution_count": 0,
      "outputs": [
        {
          "output_type": "stream",
          "text": [
            "157/157 [==============================] - 71s 449ms/step\n",
            "Test loss: 1.7169813255310058\n",
            "Test accuracy: 0.595\n"
          ],
          "name": "stdout"
        }
      ]
    }
  ]
}