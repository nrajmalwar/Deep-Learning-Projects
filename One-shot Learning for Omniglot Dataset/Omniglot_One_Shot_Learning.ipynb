{
  "nbformat": 4,
  "nbformat_minor": 0,
  "metadata": {
    "colab": {
      "name": "Omniglot_One Shot Learning.ipynb",
      "version": "0.3.2",
      "provenance": [],
      "collapsed_sections": [
        "nLJSDkR8DNmp",
        "cdAsE9yIgmud",
        "Bf-5_m_tKu6I"
      ],
      "include_colab_link": true
    },
    "kernelspec": {
      "name": "python3",
      "display_name": "Python 3"
    },
    "accelerator": "GPU"
  },
  "cells": [
    {
      "cell_type": "markdown",
      "metadata": {
        "id": "view-in-github",
        "colab_type": "text"
      },
      "source": [
        "<a href=\"https://colab.research.google.com/github/nrajmalwar/Deep-Learning-Projects/blob/master/One-shot%20Learning%20for%20Omniglot%20Dataset/Omniglot_One_Shot_Learning.ipynb\" target=\"_parent\"><img src=\"https://colab.research.google.com/assets/colab-badge.svg\" alt=\"Open In Colab\"/></a>"
      ]
    },
    {
      "cell_type": "markdown",
      "metadata": {
        "id": "qPZvR7tke-Lq",
        "colab_type": "text"
      },
      "source": [
        "# Import Libraries"
      ]
    },
    {
      "cell_type": "code",
      "metadata": {
        "id": "5sGXMTrmavhO",
        "colab_type": "code",
        "outputId": "3b8255c2-c535-4453-c423-40154b1af12a",
        "colab": {
          "base_uri": "https://localhost:8080/"
        }
      },
      "source": [
        "import sys\n",
        "import numpy as np\n",
        "import pandas as pd\n",
        "import os\n",
        "import matplotlib.pyplot as plt\n",
        "%matplotlib inline\n",
        "\n",
        "import cv2\n",
        "import time\n",
        "\n",
        "import tensorflow as tf\n",
        "from keras.models import Sequential\n",
        "from keras.optimizers import Adam\n",
        "from keras.layers import Conv2D, ZeroPadding2D, Activation, Input, concatenate\n",
        "from keras.models import Model\n",
        "from keras.utils import plot_model\n",
        "\n",
        "from keras.layers.normalization import BatchNormalization\n",
        "from keras.layers.pooling import MaxPooling2D\n",
        "from keras.layers.merge import Concatenate\n",
        "from keras.layers.core import Lambda, Flatten, Dense\n",
        "from keras.initializers import glorot_uniform\n",
        "\n",
        "from keras.engine.topology import Layer\n",
        "from keras.regularizers import l2\n",
        "from keras import backend as K\n",
        "\n",
        "from sklearn.utils import shuffle\n",
        "\n",
        "import numpy.random as rnd\n",
        "\n",
        "from IPython.display import Image"
      ],
      "execution_count": 0,
      "outputs": [
        {
          "output_type": "stream",
          "text": [
            "Using TensorFlow backend.\n"
          ],
          "name": "stderr"
        }
      ]
    },
    {
      "cell_type": "markdown",
      "metadata": {
        "id": "YdiOBoO3fBfB",
        "colab_type": "text"
      },
      "source": [
        "# Load Dataset"
      ]
    },
    {
      "cell_type": "code",
      "metadata": {
        "id": "628i0DUzbcg4",
        "colab_type": "code",
        "outputId": "d345cdb4-805e-4b29-c171-d899eb00f547",
        "colab": {
          "base_uri": "https://localhost:8080/",
          "height": 572
        }
      },
      "source": [
        "# Download the train and test dataset\n",
        "\n",
        "!wget https://github.com/brendenlake/omniglot/raw/master/python/images_evaluation.zip\n",
        "!wget https://github.com/brendenlake/omniglot/raw/master/python/images_background.zip"
      ],
      "execution_count": 0,
      "outputs": [
        {
          "output_type": "stream",
          "text": [
            "--2019-06-29 14:16:25--  https://github.com/brendenlake/omniglot/raw/master/python/images_evaluation.zip\n",
            "Resolving github.com (github.com)... 192.30.253.112\n",
            "Connecting to github.com (github.com)|192.30.253.112|:443... connected.\n",
            "HTTP request sent, awaiting response... 302 Found\n",
            "Location: https://raw.githubusercontent.com/brendenlake/omniglot/master/python/images_evaluation.zip [following]\n",
            "--2019-06-29 14:16:25--  https://raw.githubusercontent.com/brendenlake/omniglot/master/python/images_evaluation.zip\n",
            "Resolving raw.githubusercontent.com (raw.githubusercontent.com)... 151.101.0.133, 151.101.64.133, 151.101.128.133, ...\n",
            "Connecting to raw.githubusercontent.com (raw.githubusercontent.com)|151.101.0.133|:443... connected.\n",
            "HTTP request sent, awaiting response... 200 OK\n",
            "Length: 6462886 (6.2M) [application/zip]\n",
            "Saving to: ‘images_evaluation.zip.1’\n",
            "\n",
            "images_evaluation.z 100%[===================>]   6.16M  --.-KB/s    in 0.09s   \n",
            "\n",
            "2019-06-29 14:16:26 (66.4 MB/s) - ‘images_evaluation.zip.1’ saved [6462886/6462886]\n",
            "\n",
            "--2019-06-29 14:16:28--  https://github.com/brendenlake/omniglot/raw/master/python/images_background.zip\n",
            "Resolving github.com (github.com)... 192.30.253.112\n",
            "Connecting to github.com (github.com)|192.30.253.112|:443... connected.\n",
            "HTTP request sent, awaiting response... 302 Found\n",
            "Location: https://raw.githubusercontent.com/brendenlake/omniglot/master/python/images_background.zip [following]\n",
            "--2019-06-29 14:16:28--  https://raw.githubusercontent.com/brendenlake/omniglot/master/python/images_background.zip\n",
            "Resolving raw.githubusercontent.com (raw.githubusercontent.com)... 151.101.0.133, 151.101.64.133, 151.101.128.133, ...\n",
            "Connecting to raw.githubusercontent.com (raw.githubusercontent.com)|151.101.0.133|:443... connected.\n",
            "HTTP request sent, awaiting response... 200 OK\n",
            "Length: 9464212 (9.0M) [application/zip]\n",
            "Saving to: ‘images_background.zip.1’\n",
            "\n",
            "images_background.z 100%[===================>]   9.03M  --.-KB/s    in 0.1s    \n",
            "\n",
            "2019-06-29 14:16:29 (76.6 MB/s) - ‘images_background.zip.1’ saved [9464212/9464212]\n",
            "\n"
          ],
          "name": "stdout"
        }
      ]
    },
    {
      "cell_type": "code",
      "metadata": {
        "id": "MUSngYG4cQhz",
        "colab_type": "code",
        "colab": {}
      },
      "source": [
        "# Unzip the files and save in Colab Disk Storage\n",
        "!unzip -qq 'images_evaluation.zip'\n",
        "!unzip -qq 'images_background.zip'"
      ],
      "execution_count": 0,
      "outputs": []
    },
    {
      "cell_type": "code",
      "metadata": {
        "id": "hwow2OdSehrX",
        "colab_type": "code",
        "outputId": "2169f4f5-6cf9-4715-82fc-881bcd68fb35",
        "colab": {
          "base_uri": "https://localhost:8080/",
          "height": 52
        }
      },
      "source": [
        "!ls"
      ],
      "execution_count": 0,
      "outputs": [
        {
          "output_type": "stream",
          "text": [
            "data\t\t   images_background.zip  images_evaluation.zip\n",
            "images_background  images_evaluation\t  sample_data\n"
          ],
          "name": "stdout"
        }
      ]
    },
    {
      "cell_type": "code",
      "metadata": {
        "id": "0-knOwlPa9s-",
        "colab_type": "code",
        "colab": {}
      },
      "source": [
        "# Path for train and validation folder\n",
        "\n",
        "train_folder = 'images_background'\n",
        "val_folder = 'images_evaluation'"
      ],
      "execution_count": 0,
      "outputs": []
    },
    {
      "cell_type": "code",
      "metadata": {
        "id": "0_UrhhUZe7SD",
        "colab_type": "code",
        "colab": {}
      },
      "source": [
        "def loadimgs(path, n = 0):\n",
        "    '''\n",
        "    Function: To load the images the images from train or validation directory\n",
        "\n",
        "    Parameters: path- path of the train or validation directory, n - indexing of y_labels\n",
        "    \n",
        "    Return: X - the folder of images of alphabets\n",
        "            y - the labels of images\n",
        "            lang_dict - dictionary of language, the key is the language alphabet and the values are the letters of the alphabet\n",
        "    '''\n",
        "    \n",
        "    X = []\n",
        "    y = []\n",
        "    cat_dict = {}\n",
        "    lang_dict = {}\n",
        "    curr_y = n\n",
        "    \n",
        "    # Load every alphabet from the directory\n",
        "    for alphabet in os.listdir(path):\n",
        "        print(\"loading alphabet: \" + alphabet)\n",
        "        lang_dict[alphabet] = [curr_y, None]\n",
        "        alphabet_path = os.path.join(path, alphabet)\n",
        "        \n",
        "        # Every letter in the alphabet has its own set of images, so load the images individually\n",
        "        for letter in os.listdir(alphabet_path):\n",
        "            cat_dict[curr_y] = (alphabet, letter)\n",
        "            category_images=[]\n",
        "            letter_path = os.path.join(alphabet_path, letter)\n",
        "            \n",
        "            # Read all the images of the particular letter\n",
        "            for filename in os.listdir(letter_path):\n",
        "                image_path = os.path.join(letter_path, filename)\n",
        "                image = plt.imread(image_path)\n",
        "                category_images.append(image)\n",
        "                y.append(curr_y)\n",
        "            try:\n",
        "                X.append(np.stack(category_images))\n",
        "            # edge case  - last one\n",
        "            except ValueError as e:\n",
        "                print(e)\n",
        "                print(\"error - category_images:\", category_images)\n",
        "            curr_y += 1\n",
        "            lang_dict[alphabet][1] = curr_y - 1\n",
        "            \n",
        "    y = np.vstack(y)\n",
        "    X = np.stack(X)\n",
        "    \n",
        "    return X, y, lang_dict"
      ],
      "execution_count": 0,
      "outputs": []
    },
    {
      "cell_type": "markdown",
      "metadata": {
        "id": "Os3vJmG7fJye",
        "colab_type": "text"
      },
      "source": [
        "## Load Train Images"
      ]
    },
    {
      "cell_type": "code",
      "metadata": {
        "id": "wkcQRjkcfGP5",
        "colab_type": "code",
        "outputId": "4d736f68-8589-4e37-bae9-87a5e48c5a7b",
        "colab": {
          "base_uri": "https://localhost:8080/",
          "height": 537
        }
      },
      "source": [
        "# Load the train images from the train folder\n",
        "\n",
        "X_train, y_train, c_train = loadimgs(train_folder)"
      ],
      "execution_count": 0,
      "outputs": [
        {
          "output_type": "stream",
          "text": [
            "loading alphabet: Balinese\n",
            "loading alphabet: Gujarati\n",
            "loading alphabet: Tagalog\n",
            "loading alphabet: Early_Aramaic\n",
            "loading alphabet: Braille\n",
            "loading alphabet: Asomtavruli_(Georgian)\n",
            "loading alphabet: Futurama\n",
            "loading alphabet: Syriac_(Estrangelo)\n",
            "loading alphabet: Alphabet_of_the_Magi\n",
            "loading alphabet: Latin\n",
            "loading alphabet: Blackfoot_(Canadian_Aboriginal_Syllabics)\n",
            "loading alphabet: Malay_(Jawi_-_Arabic)\n",
            "loading alphabet: Anglo-Saxon_Futhorc\n",
            "loading alphabet: Hebrew\n",
            "loading alphabet: Tifinagh\n",
            "loading alphabet: Ojibwe_(Canadian_Aboriginal_Syllabics)\n",
            "loading alphabet: N_Ko\n",
            "loading alphabet: Japanese_(katakana)\n",
            "loading alphabet: Armenian\n",
            "loading alphabet: Grantha\n",
            "loading alphabet: Greek\n",
            "loading alphabet: Sanskrit\n",
            "loading alphabet: Cyrillic\n",
            "loading alphabet: Inuktitut_(Canadian_Aboriginal_Syllabics)\n",
            "loading alphabet: Korean\n",
            "loading alphabet: Japanese_(hiragana)\n",
            "loading alphabet: Bengali\n",
            "loading alphabet: Arcadian\n",
            "loading alphabet: Burmese_(Myanmar)\n",
            "loading alphabet: Mkhedruli_(Georgian)\n"
          ],
          "name": "stdout"
        }
      ]
    },
    {
      "cell_type": "code",
      "metadata": {
        "id": "ga_a5QCLmPCb",
        "colab_type": "code",
        "outputId": "d2fbaace-b6bd-4869-b091-5cc04a41197c",
        "colab": {
          "base_uri": "https://localhost:8080/",
          "height": 89
        }
      },
      "source": [
        "# The train dataset consists of 30 alphabets. In total, there are 964 classes (or characters). Each class has 20 images of size 105x105.\n",
        "print(X_train.shape) \n",
        "\n",
        "# Total number of images is 964*20 = 19280\n",
        "print(y_train.shape)\n",
        "\n",
        "# Dictionary of the alphabet. Keys are the languages and values are the range of letters\n",
        "print(c_train)"
      ],
      "execution_count": 0,
      "outputs": [
        {
          "output_type": "stream",
          "text": [
            "(964, 20, 105, 105)\n",
            "(19280, 1)\n",
            "{'Balinese': [0, 23], 'Gujarati': [24, 71], 'Tagalog': [72, 88], 'Early_Aramaic': [89, 110], 'Braille': [111, 136], 'Asomtavruli_(Georgian)': [137, 176], 'Futurama': [177, 202], 'Syriac_(Estrangelo)': [203, 225], 'Alphabet_of_the_Magi': [226, 245], 'Latin': [246, 271], 'Blackfoot_(Canadian_Aboriginal_Syllabics)': [272, 285], 'Malay_(Jawi_-_Arabic)': [286, 325], 'Anglo-Saxon_Futhorc': [326, 354], 'Hebrew': [355, 376], 'Tifinagh': [377, 431], 'Ojibwe_(Canadian_Aboriginal_Syllabics)': [432, 445], 'N_Ko': [446, 478], 'Japanese_(katakana)': [479, 525], 'Armenian': [526, 566], 'Grantha': [567, 609], 'Greek': [610, 633], 'Sanskrit': [634, 675], 'Cyrillic': [676, 708], 'Inuktitut_(Canadian_Aboriginal_Syllabics)': [709, 724], 'Korean': [725, 764], 'Japanese_(hiragana)': [765, 816], 'Bengali': [817, 862], 'Arcadian': [863, 888], 'Burmese_(Myanmar)': [889, 922], 'Mkhedruli_(Georgian)': [923, 963]}\n"
          ],
          "name": "stdout"
        }
      ]
    },
    {
      "cell_type": "markdown",
      "metadata": {
        "id": "fvx0Blv1f5KM",
        "colab_type": "text"
      },
      "source": [
        "## Load Validation Images"
      ]
    },
    {
      "cell_type": "code",
      "metadata": {
        "id": "nF_UMHhKf6kx",
        "colab_type": "code",
        "outputId": "75359c1f-e613-499c-ee0c-9dc6dd8859b3",
        "colab": {
          "base_uri": "https://localhost:8080/",
          "height": 364
        }
      },
      "source": [
        "# Load the validation images from the validation folder\n",
        "\n",
        "X_val, y_val, c_val = loadimgs(val_folder)"
      ],
      "execution_count": 0,
      "outputs": [
        {
          "output_type": "stream",
          "text": [
            "loading alphabet: Glagolitic\n",
            "loading alphabet: Sylheti\n",
            "loading alphabet: Angelic\n",
            "loading alphabet: Oriya\n",
            "loading alphabet: Tibetan\n",
            "loading alphabet: Mongolian\n",
            "loading alphabet: Avesta\n",
            "loading alphabet: Atlantean\n",
            "loading alphabet: Syriac_(Serto)\n",
            "loading alphabet: Tengwar\n",
            "loading alphabet: Malayalam\n",
            "loading alphabet: Atemayar_Qelisayer\n",
            "loading alphabet: Old_Church_Slavonic_(Cyrillic)\n",
            "loading alphabet: Ge_ez\n",
            "loading alphabet: Keble\n",
            "loading alphabet: Gurmukhi\n",
            "loading alphabet: ULOG\n",
            "loading alphabet: Aurek-Besh\n",
            "loading alphabet: Manipuri\n",
            "loading alphabet: Kannada\n"
          ],
          "name": "stdout"
        }
      ]
    },
    {
      "cell_type": "code",
      "metadata": {
        "id": "ZRT5gg_BnSVH",
        "colab_type": "code",
        "outputId": "1b7edf74-ee4a-4f35-b952-c493241f1603",
        "colab": {
          "base_uri": "https://localhost:8080/",
          "height": 89
        }
      },
      "source": [
        "# The train dataset consists of 20 alphabets. In total, there are 659 classes (or characters). Each class has 20 images of size 105x105.\n",
        "print(X_val.shape) \n",
        "\n",
        "# Total number of images is 659*20 = 13180\n",
        "print(y_val.shape)\n",
        "\n",
        "# Dictionary of the alphabet. Keys are the languages and values are the range of letters\n",
        "print(c_val)"
      ],
      "execution_count": 0,
      "outputs": [
        {
          "output_type": "stream",
          "text": [
            "(659, 20, 105, 105)\n",
            "(13180, 1)\n",
            "{'Glagolitic': [0, 44], 'Sylheti': [45, 72], 'Angelic': [73, 92], 'Oriya': [93, 138], 'Tibetan': [139, 180], 'Mongolian': [181, 210], 'Avesta': [211, 236], 'Atlantean': [237, 262], 'Syriac_(Serto)': [263, 285], 'Tengwar': [286, 310], 'Malayalam': [311, 357], 'Atemayar_Qelisayer': [358, 383], 'Old_Church_Slavonic_(Cyrillic)': [384, 428], 'Ge_ez': [429, 454], 'Keble': [455, 480], 'Gurmukhi': [481, 525], 'ULOG': [526, 551], 'Aurek-Besh': [552, 577], 'Manipuri': [578, 617], 'Kannada': [618, 658]}\n"
          ],
          "name": "stdout"
        }
      ]
    },
    {
      "cell_type": "markdown",
      "metadata": {
        "id": "aZ_JReBQgKZJ",
        "colab_type": "text"
      },
      "source": [
        "# Build a Siamese Network"
      ]
    },
    {
      "cell_type": "code",
      "metadata": {
        "id": "L2Xj_Kzrf_OZ",
        "colab_type": "code",
        "colab": {}
      },
      "source": [
        "def get_siamese_model(input_shape):\n",
        "    \"\"\"\n",
        "        Build a Siamese Network Model Architecture based on the paper: http://www.cs.utoronto.ca/~gkoch/files/msc-thesis.pdf\n",
        "    \"\"\"\n",
        "    \n",
        "    # Define the tensors for the two input images\n",
        "    \n",
        "    left_input = Input(input_shape)\n",
        "    right_input = Input(input_shape)\n",
        "    \n",
        "    # Sequential model for the Convolutional Neural Network\n",
        "    \n",
        "    model = Sequential()\n",
        "    \n",
        "    # Input Shape = 105x105x1\n",
        "    model.add(Conv2D(64, (10,10), activation='relu', input_shape=input_shape, kernel_regularizer=l2(2e-4))) \n",
        "    # Output Shape: 96x96x64\n",
        "    \n",
        "    model.add(MaxPooling2D())\n",
        "    # Output Shape: 48x48x64\n",
        "    \n",
        "    model.add(Conv2D(128, (7,7), activation='relu', kernel_regularizer=l2(2e-4)))\n",
        "    # Output Shape: 42x42x128\n",
        "    \n",
        "    model.add(MaxPooling2D())\n",
        "    # Output Shape: 21x21x128\n",
        "    \n",
        "    model.add(Conv2D(128, (4,4), activation='relu', kernel_regularizer=l2(2e-4)))\n",
        "    # Output Shape: 18x18x128\n",
        "    \n",
        "    model.add(MaxPooling2D())\n",
        "    # Output Shape: 9x9x128\n",
        "    \n",
        "    model.add(Conv2D(256, (4,4), activation='relu', kernel_regularizer=l2(2e-4)))\n",
        "    # Output Shape: 6x6x256\n",
        "      \n",
        "    model.add(Flatten())    \n",
        "    # Output Shape: 9216x1\n",
        "    \n",
        "    model.add(Dense(4096, activation='sigmoid', kernel_regularizer=l2(1e-3)))\n",
        "    # Output Shape: 4096x1\n",
        "    \n",
        "    # Generate the encodings (feature vectors) for the two images\n",
        "    \n",
        "    encoded_l = model(left_input)\n",
        "    encoded_r = model(right_input)\n",
        "    \n",
        "    # Add a customized layer to compute the absolute difference between the encodings\n",
        "    \n",
        "    L1_layer = Lambda(lambda tensors:K.abs(tensors[0] - tensors[1]))\n",
        "    L1_distance = L1_layer([encoded_l, encoded_r])\n",
        "    \n",
        "    # Add a dense layer with a sigmoid unit to generate the similarity score\n",
        "    \n",
        "    prediction = Dense(1, activation='sigmoid')(L1_distance)\n",
        "    \n",
        "    # Connect the inputs with the outputs\n",
        "    \n",
        "    siamese_net = Model(inputs = [left_input, right_input], outputs = prediction)\n",
        "    \n",
        "    # Return the model\n",
        "    \n",
        "    return siamese_net"
      ],
      "execution_count": 0,
      "outputs": []
    },
    {
      "cell_type": "code",
      "metadata": {
        "id": "vxbABnhcgQjf",
        "colab_type": "code",
        "outputId": "95446201-90f2-444e-8fc8-aee2d76b7ea8",
        "colab": {
          "base_uri": "https://localhost:8080/",
          "height": 347
        }
      },
      "source": [
        "# Build the model for an input size of 105x105x1\n",
        "\n",
        "model = get_siamese_model((105, 105, 1))\n",
        "\n",
        "# Print the model summary\n",
        "\n",
        "model.summary()"
      ],
      "execution_count": 0,
      "outputs": [
        {
          "output_type": "stream",
          "text": [
            "__________________________________________________________________________________________________\n",
            "Layer (type)                    Output Shape         Param #     Connected to                     \n",
            "==================================================================================================\n",
            "input_3 (InputLayer)            (None, 105, 105, 1)  0                                            \n",
            "__________________________________________________________________________________________________\n",
            "input_4 (InputLayer)            (None, 105, 105, 1)  0                                            \n",
            "__________________________________________________________________________________________________\n",
            "sequential_2 (Sequential)       (None, 4096)         38947648    input_3[0][0]                    \n",
            "                                                                 input_4[0][0]                    \n",
            "__________________________________________________________________________________________________\n",
            "lambda_2 (Lambda)               (None, 4096)         0           sequential_2[1][0]               \n",
            "                                                                 sequential_2[2][0]               \n",
            "__________________________________________________________________________________________________\n",
            "dense_4 (Dense)                 (None, 1)            4097        lambda_2[0][0]                   \n",
            "==================================================================================================\n",
            "Total params: 38,951,745\n",
            "Trainable params: 38,951,745\n",
            "Non-trainable params: 0\n",
            "__________________________________________________________________________________________________\n"
          ],
          "name": "stdout"
        }
      ]
    },
    {
      "cell_type": "code",
      "metadata": {
        "id": "DVbvKIwGs7d_",
        "colab_type": "code",
        "outputId": "0d9bbfba-fccd-4563-ff71-638abfb17afa",
        "colab": {
          "base_uri": "https://localhost:8080/",
          "height": 423
        }
      },
      "source": [
        "plot_model(model, show_shapes=True, to_file='model.png')\n",
        "Image('model.png')"
      ],
      "execution_count": 0,
      "outputs": [
        {
          "output_type": "execute_result",
          "data": {
            "image/png": "[encoded data removed]",
            "text/plain": [
              "<IPython.core.display.Image object>"
            ]
          },
          "metadata": {
            "tags": []
          },
          "execution_count": 6
        }
      ]
    },
    {
      "cell_type": "markdown",
      "metadata": {
        "id": "nLJSDkR8DNmp",
        "colab_type": "text"
      },
      "source": [
        "# Model Compilation"
      ]
    },
    {
      "cell_type": "code",
      "metadata": {
        "id": "Psjkw-gAga4D",
        "colab_type": "code",
        "colab": {}
      },
      "source": [
        "# Use Adam Optimizer with very low learning rate\n",
        "optimizer = Adam(lr = 0.00006)\n",
        "\n",
        "# Compile the model with loss function as binary crossentropy\n",
        "model.compile(loss=\"binary_crossentropy\", optimizer=optimizer)"
      ],
      "execution_count": 0,
      "outputs": []
    },
    {
      "cell_type": "markdown",
      "metadata": {
        "id": "cdAsE9yIgmud",
        "colab_type": "text"
      },
      "source": [
        "# Load Train Tensors"
      ]
    },
    {
      "cell_type": "code",
      "metadata": {
        "id": "4OM-Vx7Egf0g",
        "colab_type": "code",
        "outputId": "b42c891e-7c0e-43e0-9bc1-f6dcacca4dcc",
        "colab": {
          "base_uri": "https://localhost:8080/",
          "height": 89
        }
      },
      "source": [
        "print(\"Training alphabets: \\n\")\n",
        "print(list(c_train.keys()))"
      ],
      "execution_count": 0,
      "outputs": [
        {
          "output_type": "stream",
          "text": [
            "Training alphabets: \n",
            "\n",
            "['Cyrillic', 'Hebrew', 'Tagalog', 'Malay_(Jawi_-_Arabic)', 'Futurama', 'Alphabet_of_the_Magi', 'Tifinagh', 'Grantha', 'Mkhedruli_(Georgian)', 'Inuktitut_(Canadian_Aboriginal_Syllabics)', 'Latin', 'Bengali', 'Balinese', 'Sanskrit', 'Korean', 'Gujarati', 'Japanese_(hiragana)', 'N_Ko', 'Arcadian', 'Blackfoot_(Canadian_Aboriginal_Syllabics)', 'Asomtavruli_(Georgian)', 'Braille', 'Ojibwe_(Canadian_Aboriginal_Syllabics)', 'Japanese_(katakana)', 'Syriac_(Estrangelo)', 'Greek', 'Armenian', 'Early_Aramaic', 'Anglo-Saxon_Futhorc', 'Burmese_(Myanmar)']\n"
          ],
          "name": "stdout"
        }
      ]
    },
    {
      "cell_type": "code",
      "metadata": {
        "id": "yI_Iee4ygokr",
        "colab_type": "code",
        "outputId": "1ef6ac53-9abc-453d-8e0d-7db3f3c4a58d",
        "colab": {
          "base_uri": "https://localhost:8080/",
          "height": 89
        }
      },
      "source": [
        "print(\"Validation alphabets:\", end=\"\\n\\n\")\n",
        "print(list(c_val.keys()))"
      ],
      "execution_count": 0,
      "outputs": [
        {
          "output_type": "stream",
          "text": [
            "Validation alphabets:\n",
            "\n",
            "['Oriya', 'Syriac_(Serto)', 'Atlantean', 'Keble', 'Old_Church_Slavonic_(Cyrillic)', 'Glagolitic', 'Tibetan', 'ULOG', 'Ge_ez', 'Manipuri', 'Sylheti', 'Aurek-Besh', 'Tengwar', 'Gurmukhi', 'Kannada', 'Mongolian', 'Malayalam', 'Atemayar_Qelisayer', 'Angelic', 'Avesta']\n"
          ],
          "name": "stdout"
        }
      ]
    },
    {
      "cell_type": "markdown",
      "metadata": {
        "id": "P58grgIELAgj",
        "colab_type": "text"
      },
      "source": [
        "# Model Functions"
      ]
    },
    {
      "cell_type": "markdown",
      "metadata": {
        "id": "YSHTA_8sNKid",
        "colab_type": "text"
      },
      "source": [
        "## get_batch Function\n",
        "\n",
        "1. Function: Create batch of n pairs, half same class, half different class\n",
        "2. Parameters: batch_size- size of the batch;                s - sample from train or validation data\n",
        "3. Return: pairs, targets - Pairs of images and their targets"
      ]
    },
    {
      "cell_type": "code",
      "metadata": {
        "id": "geHf2d3kgshe",
        "colab_type": "code",
        "colab": {}
      },
      "source": [
        "def get_batch(batch_size, s=\"train\"):\n",
        "       \n",
        "    if s == 'train':\n",
        "        X = X_train\n",
        "        categories = c_train\n",
        "    else:\n",
        "        X = X_val\n",
        "        categories = c_val\n",
        "        \n",
        "    n_classes, n_examples, w, h = X.shape\n",
        "\n",
        "    # Randomly sample several classes (each character) to use in the batch\n",
        "    categories = rnd.choice(n_classes, size=(batch_size,), replace=False)\n",
        "    \n",
        "    # Initialize 2 empty arrays for the input image batch\n",
        "    pairs = [np.zeros((batch_size, h, w, 1)) for i in range(2)]\n",
        "    \n",
        "    # Initialize vector for the targets\n",
        "    targets = np.zeros((batch_size,))\n",
        "    \n",
        "    # Make one half of it '1's, so 2nd half of batch has same class\n",
        "    targets[batch_size//2:] = 1\n",
        "    \n",
        "    for i in range(batch_size):\n",
        "        category = categories[i]\n",
        "        idx_1 = rnd.randint(0, n_examples)\n",
        "        pairs[0][i,:,:,:] = X[category, idx_1].reshape(w, h, 1)\n",
        "        idx_2 = rnd.randint(0, n_examples)\n",
        "        \n",
        "        # Pick images of same class for 2nd half, different for 1st half\n",
        "        if i >= batch_size // 2:\n",
        "            category_2 = category  \n",
        "        else: \n",
        "            # Add a random number to the category modulo n classes to ensure 2nd image has a different category\n",
        "            category_2 = (category + rnd.randint(1, n_classes)) % n_classes\n",
        "        \n",
        "        pairs[1][i,:,:,:] = X[category_2, idx_2].reshape(w, h, 1)\n",
        "    \n",
        "    return pairs, targets"
      ],
      "execution_count": 0,
      "outputs": []
    },
    {
      "cell_type": "markdown",
      "metadata": {
        "id": "uTGtXePONcNj",
        "colab_type": "text"
      },
      "source": [
        "## generate Function\n",
        "\n",
        "1. Function: A generator function to create batches on the fly, so that model.fit_generator can be used. \n",
        "2. Parametes: batch_size- size of the batch;  s - sample from train or validation data\n",
        "3. Return: (pairs, targets) - tuple of pairs and targets from the get_batch function"
      ]
    },
    {
      "cell_type": "code",
      "metadata": {
        "id": "0WviX865g1T1",
        "colab_type": "code",
        "colab": {}
      },
      "source": [
        "def generate(batch_size, s=\"train\"):\n",
        "        \n",
        "    while True:\n",
        "        pairs, targets = get_batch(batch_size, s)\n",
        "        yield (pairs, targets)"
      ],
      "execution_count": 0,
      "outputs": []
    },
    {
      "cell_type": "markdown",
      "metadata": {
        "id": "wQGFfyGSNpgd",
        "colab_type": "text"
      },
      "source": [
        "## make_oneshot_task Function\n",
        "1. Function: Create pairs of test image, support set for testing N way one-shot learning\n",
        "2. Parameters: N - value for N way one-shot learning; s - sample from train or validation data; langauge - if True, select characters from that language\n",
        "3. Return: pairs, targets - Pairs and targets\n"
      ]
    },
    {
      "cell_type": "code",
      "metadata": {
        "id": "rBhu2zuFg6aU",
        "colab_type": "code",
        "colab": {}
      },
      "source": [
        "def make_oneshot_task(N, s=\"val\", language=None):\n",
        "        \n",
        "    if s == 'train':\n",
        "        X = X_train\n",
        "        categories = c_train\n",
        "    else:\n",
        "        X = X_val\n",
        "        categories = c_val\n",
        "        \n",
        "    n_classes, n_examples, w, h = X.shape\n",
        "    \n",
        "    indices = rnd.randint(0, n_examples, size=(N,))\n",
        "    \n",
        "    if language is not None: # if language is specified, select characters for that language\n",
        "        low, high = categories[language]\n",
        "        \n",
        "        if N > high - low: # incase the language has less than N characters\n",
        "            raise ValueError(\"This language ({}) has less than {} letters\".format(language, N))\n",
        "            \n",
        "        categories = rnd.choice(range(low,high), size=(N,), replace=False)\n",
        "\n",
        "    else: # if no language specified just pick a bunch of random letters\n",
        "        categories = rnd.choice(range(n_classes), size=(N,), replace=False)\n",
        "        \n",
        "    true_category = categories[0]\n",
        "    ex1, ex2 = rnd.choice(n_examples, replace=False, size=(2,))\n",
        "    test_image = np.asarray([X[true_category, ex1, :, :]]*N).reshape(N, w, h, 1)\n",
        "    support_set = X[categories, indices, :, :]\n",
        "    support_set[0,:,:] = X[true_category, ex2]\n",
        "    support_set = support_set.reshape(N, w, h, 1)\n",
        "    targets = np.zeros((N,))\n",
        "    targets[0] = 1\n",
        "    targets, test_image, support_set = shuffle(targets, test_image, support_set)\n",
        "    pairs = [test_image, support_set]\n",
        "\n",
        "    return pairs, targets"
      ],
      "execution_count": 0,
      "outputs": []
    },
    {
      "cell_type": "markdown",
      "metadata": {
        "id": "zU6PyHiJN8ct",
        "colab_type": "text"
      },
      "source": [
        "# test_oneshot Function\n",
        "1. Function: Test average N way oneshot learning accuracy of a siamese neural net over k one-shot tasks\n",
        "2. Parameters: model - The Siamese model to be passed to the network; N - The value N way one-shot learning; k - Number of the times one-shot tasks are performed (number of times images are compared)\n",
        "3. Return: percent_correct - Percentage of correct predictions in k tasks"
      ]
    },
    {
      "cell_type": "code",
      "metadata": {
        "id": "WGIA4DI4g8x0",
        "colab_type": "code",
        "colab": {}
      },
      "source": [
        "def test_oneshot(model, N, k, s = \"val\", verbose = 0):\n",
        "        \n",
        "    n_correct = 0\n",
        "    \n",
        "    if verbose:\n",
        "        print(\"Evaluating model on {} random {} way one-shot learning tasks ... \\n\".format(k,N))\n",
        "        \n",
        "    for i in range(k):\n",
        "        inputs, targets = make_oneshot_task(N,s)\n",
        "        probs = model.predict(inputs)\n",
        "        if np.argmax(probs) == np.argmax(targets):\n",
        "            n_correct+=1\n",
        "     \n",
        "    percent_correct = (100.0 * n_correct / k)\n",
        "        \n",
        "    if verbose:\n",
        "        print(\"Got an average of {}% {} way one-shot learning accuracy \\n\".format(percent_correct, N))\n",
        "    return percent_correct"
      ],
      "execution_count": 0,
      "outputs": []
    },
    {
      "cell_type": "markdown",
      "metadata": {
        "id": "Bf-5_m_tKu6I",
        "colab_type": "text"
      },
      "source": [
        "# Model Training"
      ]
    },
    {
      "cell_type": "code",
      "metadata": {
        "id": "xZZWhKpohAC7",
        "colab_type": "code",
        "colab": {}
      },
      "source": [
        "# Hyperparameters\n",
        "\n",
        "# Interval for evaluating on one-shot tasks\n",
        "evaluate_every = 200 \n",
        "\n",
        "# Batch size\n",
        "batch_size = 32\n",
        "\n",
        "# No. of training iterations\n",
        "n_iter = 15000 \n",
        "\n",
        "# How many classes for Testing one-shot tasks\n",
        "N_way = 20\n",
        "\n",
        "# How many one-shot tasks to validate on\n",
        "n_val = 250 \n",
        "\n",
        "best = -1"
      ],
      "execution_count": 0,
      "outputs": []
    },
    {
      "cell_type": "code",
      "metadata": {
        "id": "JWHC5yBFhCj0",
        "colab_type": "code",
        "colab": {}
      },
      "source": [
        "# Create directory to save Model weights\n",
        "!mkdir 'weights'\n",
        "model_path = 'weights/'"
      ],
      "execution_count": 0,
      "outputs": []
    },
    {
      "cell_type": "code",
      "metadata": {
        "id": "Gqqx23ZOhLZY",
        "colab_type": "code",
        "outputId": "1eb45697-aecf-4e6f-b34a-75c5ea23285d",
        "colab": {
          "base_uri": "https://localhost:8080/",
          "height": 11995
        }
      },
      "source": [
        "print(\"Starting training process!\")\n",
        "print(\"-------------------------------------\")\n",
        "t_start = time.time()\n",
        "\n",
        "for i in range(1, n_iter+1):\n",
        "    (inputs, targets) = get_batch(batch_size)\n",
        "    \n",
        "    #Train the model batch-wise\n",
        "    loss = model.train_on_batch(inputs, targets)\n",
        "    \n",
        "    if i % evaluate_every == 0:\n",
        "        print(\"\\n ------------- \\n\")\n",
        "        print(\"Time for {0} iterations: {1} mins\".format(i, (time.time()-t_start)/60.0))\n",
        "        print(\"Train Loss: {0}\".format(loss)) \n",
        "        val_acc = test_oneshot(model, N_way, n_val, verbose=True)\n",
        "        model.save_weights(os.path.join(model_path, 'weights.{}.h5'.format(i)))\n",
        "        \n",
        "        if val_acc >= best:\n",
        "            print(\"Current best: {0}, previous best: {1}\".format(val_acc, best))\n",
        "            best = val_acc"
      ],
      "execution_count": 0,
      "outputs": [
        {
          "output_type": "stream",
          "text": [
            "Starting training process!\n",
            "-------------------------------------\n",
            "\n",
            " ------------- \n",
            "\n",
            "Time for 200 iterations: 0.31349500417709353 mins\n",
            "Train Loss: 0.32489266991615295\n",
            "Evaluating model on 250 random 20 way one-shot learning tasks ... \n",
            "\n",
            "Got an average of 60.0% 20 way one-shot learning accuracy \n",
            "\n",
            "Current best: 60.0, previous best: -1\n",
            "\n",
            " ------------- \n",
            "\n",
            "Time for 400 iterations: 0.6974383393923441 mins\n",
            "Train Loss: 0.3876653015613556\n",
            "Evaluating model on 250 random 20 way one-shot learning tasks ... \n",
            "\n",
            "Got an average of 64.0% 20 way one-shot learning accuracy \n",
            "\n",
            "Current best: 64.0, previous best: 60.0\n",
            "\n",
            " ------------- \n",
            "\n",
            "Time for 600 iterations: 1.0778248111406963 mins\n",
            "Train Loss: 0.2776261866092682\n",
            "Evaluating model on 250 random 20 way one-shot learning tasks ... \n",
            "\n",
            "Got an average of 65.6% 20 way one-shot learning accuracy \n",
            "\n",
            "Current best: 65.6, previous best: 64.0\n",
            "\n",
            " ------------- \n",
            "\n",
            "Time for 800 iterations: 1.4556678136189778 mins\n",
            "Train Loss: 0.20410972833633423\n",
            "Evaluating model on 250 random 20 way one-shot learning tasks ... \n",
            "\n",
            "Got an average of 72.8% 20 way one-shot learning accuracy \n",
            "\n",
            "Current best: 72.8, previous best: 65.6\n",
            "\n",
            " ------------- \n",
            "\n",
            "Time for 1000 iterations: 1.8343061844507853 mins\n",
            "Train Loss: 0.22089748084545135\n",
            "Evaluating model on 250 random 20 way one-shot learning tasks ... \n",
            "\n",
            "Got an average of 66.8% 20 way one-shot learning accuracy \n",
            "\n",
            "\n",
            " ------------- \n",
            "\n",
            "Time for 1200 iterations: 2.2142274141311646 mins\n",
            "Train Loss: 0.2086174637079239\n",
            "Evaluating model on 250 random 20 way one-shot learning tasks ... \n",
            "\n",
            "Got an average of 66.8% 20 way one-shot learning accuracy \n",
            "\n",
            "\n",
            " ------------- \n",
            "\n",
            "Time for 1400 iterations: 2.592349092165629 mins\n",
            "Train Loss: 0.17075401544570923\n",
            "Evaluating model on 250 random 20 way one-shot learning tasks ... \n",
            "\n",
            "Got an average of 64.8% 20 way one-shot learning accuracy \n",
            "\n",
            "\n",
            " ------------- \n",
            "\n",
            "Time for 1600 iterations: 2.970634917418162 mins\n",
            "Train Loss: 0.23286525905132294\n",
            "Evaluating model on 250 random 20 way one-shot learning tasks ... \n",
            "\n",
            "Got an average of 68.0% 20 way one-shot learning accuracy \n",
            "\n",
            "\n",
            " ------------- \n",
            "\n",
            "Time for 1800 iterations: 3.347906494140625 mins\n",
            "Train Loss: 0.3809426426887512\n",
            "Evaluating model on 250 random 20 way one-shot learning tasks ... \n",
            "\n",
            "Got an average of 73.6% 20 way one-shot learning accuracy \n",
            "\n",
            "Current best: 73.6, previous best: 72.8\n",
            "\n",
            " ------------- \n",
            "\n",
            "Time for 2000 iterations: 3.7249138792355856 mins\n",
            "Train Loss: 0.265053391456604\n",
            "Evaluating model on 250 random 20 way one-shot learning tasks ... \n",
            "\n",
            "Got an average of 73.2% 20 way one-shot learning accuracy \n",
            "\n",
            "\n",
            " ------------- \n",
            "\n",
            "Time for 2200 iterations: 4.101535741488139 mins\n",
            "Train Loss: 0.25135788321495056\n",
            "Evaluating model on 250 random 20 way one-shot learning tasks ... \n",
            "\n",
            "Got an average of 66.8% 20 way one-shot learning accuracy \n",
            "\n",
            "\n",
            " ------------- \n",
            "\n",
            "Time for 2400 iterations: 4.477994159857432 mins\n",
            "Train Loss: 0.20173679292201996\n",
            "Evaluating model on 250 random 20 way one-shot learning tasks ... \n",
            "\n",
            "Got an average of 67.2% 20 way one-shot learning accuracy \n",
            "\n",
            "\n",
            " ------------- \n",
            "\n",
            "Time for 2600 iterations: 4.855037772655487 mins\n",
            "Train Loss: 0.23428025841712952\n",
            "Evaluating model on 250 random 20 way one-shot learning tasks ... \n",
            "\n",
            "Got an average of 68.4% 20 way one-shot learning accuracy \n",
            "\n",
            "\n",
            " ------------- \n",
            "\n",
            "Time for 2800 iterations: 5.232023195425669 mins\n",
            "Train Loss: 0.2912027835845947\n",
            "Evaluating model on 250 random 20 way one-shot learning tasks ... \n",
            "\n",
            "Got an average of 75.6% 20 way one-shot learning accuracy \n",
            "\n",
            "Current best: 75.6, previous best: 73.6\n",
            "\n",
            " ------------- \n",
            "\n",
            "Time for 3000 iterations: 5.609003412723541 mins\n",
            "Train Loss: 0.24780982732772827\n",
            "Evaluating model on 250 random 20 way one-shot learning tasks ... \n",
            "\n",
            "Got an average of 67.2% 20 way one-shot learning accuracy \n",
            "\n",
            "\n",
            " ------------- \n",
            "\n",
            "Time for 3200 iterations: 5.985818537076314 mins\n",
            "Train Loss: 0.33832862973213196\n",
            "Evaluating model on 250 random 20 way one-shot learning tasks ... \n",
            "\n",
            "Got an average of 66.8% 20 way one-shot learning accuracy \n",
            "\n",
            "\n",
            " ------------- \n",
            "\n",
            "Time for 3400 iterations: 6.363222773869833 mins\n",
            "Train Loss: 0.20689323544502258\n",
            "Evaluating model on 250 random 20 way one-shot learning tasks ... \n",
            "\n",
            "Got an average of 64.8% 20 way one-shot learning accuracy \n",
            "\n",
            "\n",
            " ------------- \n",
            "\n",
            "Time for 3600 iterations: 6.740370980898539 mins\n",
            "Train Loss: 0.21692052483558655\n",
            "Evaluating model on 250 random 20 way one-shot learning tasks ... \n",
            "\n",
            "Got an average of 75.6% 20 way one-shot learning accuracy \n",
            "\n",
            "Current best: 75.6, previous best: 75.6\n",
            "\n",
            " ------------- \n",
            "\n",
            "Time for 3800 iterations: 7.117495389779409 mins\n",
            "Train Loss: 0.2996314764022827\n",
            "Evaluating model on 250 random 20 way one-shot learning tasks ... \n",
            "\n",
            "Got an average of 73.6% 20 way one-shot learning accuracy \n",
            "\n",
            "\n",
            " ------------- \n",
            "\n",
            "Time for 4000 iterations: 7.49486133257548 mins\n",
            "Train Loss: 0.24808569252490997\n",
            "Evaluating model on 250 random 20 way one-shot learning tasks ... \n",
            "\n",
            "Got an average of 70.0% 20 way one-shot learning accuracy \n",
            "\n",
            "\n",
            " ------------- \n",
            "\n",
            "Time for 4200 iterations: 7.871880908807118 mins\n",
            "Train Loss: 0.35774287581443787\n",
            "Evaluating model on 250 random 20 way one-shot learning tasks ... \n",
            "\n",
            "Got an average of 64.0% 20 way one-shot learning accuracy \n",
            "\n",
            "\n",
            " ------------- \n",
            "\n",
            "Time for 4400 iterations: 8.249247133731842 mins\n",
            "Train Loss: 0.21523986756801605\n",
            "Evaluating model on 250 random 20 way one-shot learning tasks ... \n",
            "\n",
            "Got an average of 72.8% 20 way one-shot learning accuracy \n",
            "\n",
            "\n",
            " ------------- \n",
            "\n",
            "Time for 4600 iterations: 8.625820787747701 mins\n",
            "Train Loss: 0.22363819181919098\n",
            "Evaluating model on 250 random 20 way one-shot learning tasks ... \n",
            "\n",
            "Got an average of 68.4% 20 way one-shot learning accuracy \n",
            "\n",
            "\n",
            " ------------- \n",
            "\n",
            "Time for 4800 iterations: 9.002613588174183 mins\n",
            "Train Loss: 0.3241546154022217\n",
            "Evaluating model on 250 random 20 way one-shot learning tasks ... \n",
            "\n",
            "Got an average of 71.6% 20 way one-shot learning accuracy \n",
            "\n",
            "\n",
            " ------------- \n",
            "\n",
            "Time for 5000 iterations: 9.378715709845226 mins\n",
            "Train Loss: 0.27120518684387207\n",
            "Evaluating model on 250 random 20 way one-shot learning tasks ... \n",
            "\n",
            "Got an average of 68.0% 20 way one-shot learning accuracy \n",
            "\n",
            "\n",
            " ------------- \n",
            "\n",
            "Time for 5200 iterations: 9.755321685473124 mins\n",
            "Train Loss: 0.19582369923591614\n",
            "Evaluating model on 250 random 20 way one-shot learning tasks ... \n",
            "\n",
            "Got an average of 71.2% 20 way one-shot learning accuracy \n",
            "\n",
            "\n",
            " ------------- \n",
            "\n",
            "Time for 5400 iterations: 10.132545292377472 mins\n",
            "Train Loss: 0.21239881217479706\n",
            "Evaluating model on 250 random 20 way one-shot learning tasks ... \n",
            "\n",
            "Got an average of 69.2% 20 way one-shot learning accuracy \n",
            "\n",
            "\n",
            " ------------- \n",
            "\n",
            "Time for 5600 iterations: 10.511578182379404 mins\n",
            "Train Loss: 0.23587311804294586\n",
            "Evaluating model on 250 random 20 way one-shot learning tasks ... \n",
            "\n",
            "Got an average of 70.8% 20 way one-shot learning accuracy \n",
            "\n",
            "\n",
            " ------------- \n",
            "\n",
            "Time for 5800 iterations: 10.893213828404745 mins\n",
            "Train Loss: 0.25916141271591187\n",
            "Evaluating model on 250 random 20 way one-shot learning tasks ... \n",
            "\n",
            "Got an average of 74.0% 20 way one-shot learning accuracy \n",
            "\n",
            "\n",
            " ------------- \n",
            "\n",
            "Time for 6000 iterations: 11.272408258914947 mins\n",
            "Train Loss: 0.2642616927623749\n",
            "Evaluating model on 250 random 20 way one-shot learning tasks ... \n",
            "\n",
            "Got an average of 65.6% 20 way one-shot learning accuracy \n",
            "\n",
            "\n",
            " ------------- \n",
            "\n",
            "Time for 6200 iterations: 11.651574250062307 mins\n",
            "Train Loss: 0.2688080966472626\n",
            "Evaluating model on 250 random 20 way one-shot learning tasks ... \n",
            "\n",
            "Got an average of 72.8% 20 way one-shot learning accuracy \n",
            "\n",
            "\n",
            " ------------- \n",
            "\n",
            "Time for 6400 iterations: 12.030444912115733 mins\n",
            "Train Loss: 0.24234585464000702\n",
            "Evaluating model on 250 random 20 way one-shot learning tasks ... \n",
            "\n",
            "Got an average of 74.8% 20 way one-shot learning accuracy \n",
            "\n",
            "\n",
            " ------------- \n",
            "\n",
            "Time for 6600 iterations: 12.408229581514995 mins\n",
            "Train Loss: 0.2694398760795593\n",
            "Evaluating model on 250 random 20 way one-shot learning tasks ... \n",
            "\n",
            "Got an average of 66.4% 20 way one-shot learning accuracy \n",
            "\n",
            "\n",
            " ------------- \n",
            "\n",
            "Time for 6800 iterations: 12.786205486456554 mins\n",
            "Train Loss: 0.30527621507644653\n",
            "Evaluating model on 250 random 20 way one-shot learning tasks ... \n",
            "\n",
            "Got an average of 72.0% 20 way one-shot learning accuracy \n",
            "\n",
            "\n",
            " ------------- \n",
            "\n",
            "Time for 7000 iterations: 13.164647634824117 mins\n",
            "Train Loss: 0.27218905091285706\n",
            "Evaluating model on 250 random 20 way one-shot learning tasks ... \n",
            "\n",
            "Got an average of 73.6% 20 way one-shot learning accuracy \n",
            "\n",
            "\n",
            " ------------- \n",
            "\n",
            "Time for 7200 iterations: 13.541939377784729 mins\n",
            "Train Loss: 0.28055906295776367\n",
            "Evaluating model on 250 random 20 way one-shot learning tasks ... \n",
            "\n",
            "Got an average of 74.4% 20 way one-shot learning accuracy \n",
            "\n",
            "\n",
            " ------------- \n",
            "\n",
            "Time for 7400 iterations: 13.91890409787496 mins\n",
            "Train Loss: 0.31519371271133423\n",
            "Evaluating model on 250 random 20 way one-shot learning tasks ... \n",
            "\n",
            "Got an average of 70.4% 20 way one-shot learning accuracy \n",
            "\n",
            "\n",
            " ------------- \n",
            "\n",
            "Time for 7600 iterations: 14.294987241427103 mins\n",
            "Train Loss: 0.21325412392616272\n",
            "Evaluating model on 250 random 20 way one-shot learning tasks ... \n",
            "\n",
            "Got an average of 73.6% 20 way one-shot learning accuracy \n",
            "\n",
            "\n",
            " ------------- \n",
            "\n",
            "Time for 7800 iterations: 14.670634086926778 mins\n",
            "Train Loss: 0.25344207882881165\n",
            "Evaluating model on 250 random 20 way one-shot learning tasks ... \n",
            "\n",
            "Got an average of 71.6% 20 way one-shot learning accuracy \n",
            "\n",
            "\n",
            " ------------- \n",
            "\n",
            "Time for 8000 iterations: 15.04687020778656 mins\n",
            "Train Loss: 0.18135593831539154\n",
            "Evaluating model on 250 random 20 way one-shot learning tasks ... \n",
            "\n",
            "Got an average of 75.6% 20 way one-shot learning accuracy \n",
            "\n",
            "Current best: 75.6, previous best: 75.6\n",
            "\n",
            " ------------- \n",
            "\n",
            "Time for 8200 iterations: 15.42194435596466 mins\n",
            "Train Loss: 0.20104818046092987\n",
            "Evaluating model on 250 random 20 way one-shot learning tasks ... \n",
            "\n",
            "Got an average of 69.2% 20 way one-shot learning accuracy \n",
            "\n",
            "\n",
            " ------------- \n",
            "\n",
            "Time for 8400 iterations: 15.797480567296345 mins\n",
            "Train Loss: 0.2536768615245819\n",
            "Evaluating model on 250 random 20 way one-shot learning tasks ... \n",
            "\n",
            "Got an average of 76.8% 20 way one-shot learning accuracy \n",
            "\n",
            "Current best: 76.8, previous best: 75.6\n",
            "\n",
            " ------------- \n",
            "\n",
            "Time for 8600 iterations: 16.17310758034388 mins\n",
            "Train Loss: 0.19342251121997833\n",
            "Evaluating model on 250 random 20 way one-shot learning tasks ... \n",
            "\n",
            "Got an average of 72.4% 20 way one-shot learning accuracy \n",
            "\n",
            "\n",
            " ------------- \n",
            "\n",
            "Time for 8800 iterations: 16.549128524462382 mins\n",
            "Train Loss: 0.22744981944561005\n",
            "Evaluating model on 250 random 20 way one-shot learning tasks ... \n",
            "\n",
            "Got an average of 71.2% 20 way one-shot learning accuracy \n",
            "\n",
            "\n",
            " ------------- \n",
            "\n",
            "Time for 9000 iterations: 16.924575622876485 mins\n",
            "Train Loss: 0.27926039695739746\n",
            "Evaluating model on 250 random 20 way one-shot learning tasks ... \n",
            "\n",
            "Got an average of 71.6% 20 way one-shot learning accuracy \n",
            "\n",
            "\n",
            " ------------- \n",
            "\n",
            "Time for 9200 iterations: 17.300443927447002 mins\n",
            "Train Loss: 0.17421217262744904\n",
            "Evaluating model on 250 random 20 way one-shot learning tasks ... \n",
            "\n",
            "Got an average of 77.2% 20 way one-shot learning accuracy \n",
            "\n",
            "Current best: 77.2, previous best: 76.8\n",
            "\n",
            " ------------- \n",
            "\n",
            "Time for 9400 iterations: 17.6759911775589 mins\n",
            "Train Loss: 0.24964004755020142\n",
            "Evaluating model on 250 random 20 way one-shot learning tasks ... \n",
            "\n",
            "Got an average of 78.0% 20 way one-shot learning accuracy \n",
            "\n",
            "Current best: 78.0, previous best: 77.2\n",
            "\n",
            " ------------- \n",
            "\n",
            "Time for 9600 iterations: 18.052112531661987 mins\n",
            "Train Loss: 0.25580543279647827\n",
            "Evaluating model on 250 random 20 way one-shot learning tasks ... \n",
            "\n",
            "Got an average of 79.6% 20 way one-shot learning accuracy \n",
            "\n",
            "Current best: 79.6, previous best: 78.0\n",
            "\n",
            " ------------- \n",
            "\n",
            "Time for 9800 iterations: 18.42878306309382 mins\n",
            "Train Loss: 0.1768854707479477\n",
            "Evaluating model on 250 random 20 way one-shot learning tasks ... \n",
            "\n",
            "Got an average of 70.4% 20 way one-shot learning accuracy \n",
            "\n",
            "\n",
            " ------------- \n",
            "\n",
            "Time for 10000 iterations: 18.805558117230735 mins\n",
            "Train Loss: 0.18820162117481232\n",
            "Evaluating model on 250 random 20 way one-shot learning tasks ... \n",
            "\n",
            "Got an average of 73.2% 20 way one-shot learning accuracy \n",
            "\n",
            "\n",
            " ------------- \n",
            "\n",
            "Time for 10200 iterations: 19.181118083000182 mins\n",
            "Train Loss: 0.22595153748989105\n",
            "Evaluating model on 250 random 20 way one-shot learning tasks ... \n",
            "\n",
            "Got an average of 74.0% 20 way one-shot learning accuracy \n",
            "\n",
            "\n",
            " ------------- \n",
            "\n",
            "Time for 10400 iterations: 19.56123860279719 mins\n",
            "Train Loss: 0.17393335700035095\n",
            "Evaluating model on 250 random 20 way one-shot learning tasks ... \n",
            "\n",
            "Got an average of 76.4% 20 way one-shot learning accuracy \n",
            "\n",
            "\n",
            " ------------- \n",
            "\n",
            "Time for 10600 iterations: 19.937785983085632 mins\n",
            "Train Loss: 0.20341049134731293\n",
            "Evaluating model on 250 random 20 way one-shot learning tasks ... \n",
            "\n",
            "Got an average of 70.0% 20 way one-shot learning accuracy \n",
            "\n",
            "\n",
            " ------------- \n",
            "\n",
            "Time for 10800 iterations: 20.314004039764406 mins\n",
            "Train Loss: 0.17671605944633484\n",
            "Evaluating model on 250 random 20 way one-shot learning tasks ... \n",
            "\n",
            "Got an average of 77.2% 20 way one-shot learning accuracy \n",
            "\n",
            "\n",
            " ------------- \n",
            "\n",
            "Time for 11000 iterations: 20.689597078164418 mins\n",
            "Train Loss: 0.17822280526161194\n",
            "Evaluating model on 250 random 20 way one-shot learning tasks ... \n",
            "\n",
            "Got an average of 80.8% 20 way one-shot learning accuracy \n",
            "\n",
            "Current best: 80.8, previous best: 79.6\n",
            "\n",
            " ------------- \n",
            "\n",
            "Time for 11200 iterations: 21.066193521022797 mins\n",
            "Train Loss: 0.17425274848937988\n",
            "Evaluating model on 250 random 20 way one-shot learning tasks ... \n",
            "\n",
            "Got an average of 72.8% 20 way one-shot learning accuracy \n",
            "\n",
            "\n",
            " ------------- \n",
            "\n",
            "Time for 11400 iterations: 21.44207482735316 mins\n",
            "Train Loss: 0.20024776458740234\n",
            "Evaluating model on 250 random 20 way one-shot learning tasks ... \n",
            "\n",
            "Got an average of 70.0% 20 way one-shot learning accuracy \n",
            "\n",
            "\n",
            " ------------- \n",
            "\n",
            "Time for 11600 iterations: 21.81872994105021 mins\n",
            "Train Loss: 0.19773219525814056\n",
            "Evaluating model on 250 random 20 way one-shot learning tasks ... \n",
            "\n",
            "Got an average of 76.4% 20 way one-shot learning accuracy \n",
            "\n",
            "\n",
            " ------------- \n",
            "\n",
            "Time for 11800 iterations: 22.196578633785247 mins\n",
            "Train Loss: 0.22489017248153687\n",
            "Evaluating model on 250 random 20 way one-shot learning tasks ... \n",
            "\n",
            "Got an average of 72.8% 20 way one-shot learning accuracy \n",
            "\n",
            "\n",
            " ------------- \n",
            "\n",
            "Time for 12000 iterations: 22.573040795326232 mins\n",
            "Train Loss: 0.2504946291446686\n",
            "Evaluating model on 250 random 20 way one-shot learning tasks ... \n",
            "\n",
            "Got an average of 68.4% 20 way one-shot learning accuracy \n",
            "\n",
            "\n",
            " ------------- \n",
            "\n",
            "Time for 12200 iterations: 22.949238618214924 mins\n",
            "Train Loss: 0.184208944439888\n",
            "Evaluating model on 250 random 20 way one-shot learning tasks ... \n",
            "\n",
            "Got an average of 77.2% 20 way one-shot learning accuracy \n",
            "\n",
            "\n",
            " ------------- \n",
            "\n",
            "Time for 12400 iterations: 23.325260881582896 mins\n",
            "Train Loss: 0.22136881947517395\n",
            "Evaluating model on 250 random 20 way one-shot learning tasks ... \n",
            "\n",
            "Got an average of 71.2% 20 way one-shot learning accuracy \n",
            "\n",
            "\n",
            " ------------- \n",
            "\n",
            "Time for 12600 iterations: 23.702403887112936 mins\n",
            "Train Loss: 0.2767176330089569\n",
            "Evaluating model on 250 random 20 way one-shot learning tasks ... \n",
            "\n",
            "Got an average of 68.4% 20 way one-shot learning accuracy \n",
            "\n",
            "\n",
            " ------------- \n",
            "\n",
            "Time for 12800 iterations: 24.079189892609914 mins\n",
            "Train Loss: 0.20761805772781372\n",
            "Evaluating model on 250 random 20 way one-shot learning tasks ... \n",
            "\n",
            "Got an average of 78.8% 20 way one-shot learning accuracy \n",
            "\n",
            "\n",
            " ------------- \n",
            "\n",
            "Time for 13000 iterations: 24.456442213058473 mins\n",
            "Train Loss: 0.23424501717090607\n",
            "Evaluating model on 250 random 20 way one-shot learning tasks ... \n",
            "\n",
            "Got an average of 74.8% 20 way one-shot learning accuracy \n",
            "\n",
            "\n",
            " ------------- \n",
            "\n",
            "Time for 13200 iterations: 24.833107610543568 mins\n",
            "Train Loss: 0.18000157177448273\n",
            "Evaluating model on 250 random 20 way one-shot learning tasks ... \n",
            "\n",
            "Got an average of 82.0% 20 way one-shot learning accuracy \n",
            "\n",
            "Current best: 82.0, previous best: 80.8\n",
            "\n",
            " ------------- \n",
            "\n",
            "Time for 13400 iterations: 25.211142257849374 mins\n",
            "Train Loss: 0.1521998643875122\n",
            "Evaluating model on 250 random 20 way one-shot learning tasks ... \n",
            "\n",
            "Got an average of 74.4% 20 way one-shot learning accuracy \n",
            "\n",
            "\n",
            " ------------- \n",
            "\n",
            "Time for 13600 iterations: 25.588320922851562 mins\n",
            "Train Loss: 0.18588446080684662\n",
            "Evaluating model on 250 random 20 way one-shot learning tasks ... \n",
            "\n",
            "Got an average of 78.0% 20 way one-shot learning accuracy \n",
            "\n",
            "\n",
            " ------------- \n",
            "\n",
            "Time for 13800 iterations: 25.966525840759278 mins\n",
            "Train Loss: 0.22632548213005066\n",
            "Evaluating model on 250 random 20 way one-shot learning tasks ... \n",
            "\n",
            "Got an average of 78.4% 20 way one-shot learning accuracy \n",
            "\n",
            "\n",
            " ------------- \n",
            "\n",
            "Time for 14000 iterations: 26.34373813867569 mins\n",
            "Train Loss: 0.20481082797050476\n",
            "Evaluating model on 250 random 20 way one-shot learning tasks ... \n",
            "\n",
            "Got an average of 75.6% 20 way one-shot learning accuracy \n",
            "\n",
            "\n",
            " ------------- \n",
            "\n",
            "Time for 14200 iterations: 26.720007701714835 mins\n",
            "Train Loss: 0.13311298191547394\n",
            "Evaluating model on 250 random 20 way one-shot learning tasks ... \n",
            "\n",
            "Got an average of 77.2% 20 way one-shot learning accuracy \n",
            "\n",
            "\n",
            " ------------- \n",
            "\n",
            "Time for 14400 iterations: 27.096813901265463 mins\n",
            "Train Loss: 0.2394743263721466\n",
            "Evaluating model on 250 random 20 way one-shot learning tasks ... \n",
            "\n",
            "Got an average of 72.4% 20 way one-shot learning accuracy \n",
            "\n",
            "\n",
            " ------------- \n",
            "\n",
            "Time for 14600 iterations: 27.473583920796713 mins\n",
            "Train Loss: 0.23853012919425964\n",
            "Evaluating model on 250 random 20 way one-shot learning tasks ... \n",
            "\n",
            "Got an average of 77.6% 20 way one-shot learning accuracy \n",
            "\n",
            "\n",
            " ------------- \n",
            "\n",
            "Time for 14800 iterations: 27.85048307975133 mins\n",
            "Train Loss: 0.28304120898246765\n",
            "Evaluating model on 250 random 20 way one-shot learning tasks ... \n",
            "\n",
            "Got an average of 70.4% 20 way one-shot learning accuracy \n",
            "\n",
            "\n",
            " ------------- \n",
            "\n",
            "Time for 15000 iterations: 28.227285881837208 mins\n",
            "Train Loss: 0.15626409649848938\n",
            "Evaluating model on 250 random 20 way one-shot learning tasks ... \n",
            "\n",
            "Got an average of 74.0% 20 way one-shot learning accuracy \n",
            "\n"
          ],
          "name": "stdout"
        }
      ]
    },
    {
      "cell_type": "markdown",
      "metadata": {
        "id": "ZJImaBO3ni2P",
        "colab_type": "text"
      },
      "source": [
        "# Model Evaluation"
      ]
    },
    {
      "cell_type": "code",
      "metadata": {
        "id": "QhAesFH6nmBN",
        "colab_type": "code",
        "colab": {}
      },
      "source": [
        "model.load_weights(os.path.join(model_path, \"weights.15000.h5\"))"
      ],
      "execution_count": 0,
      "outputs": []
    },
    {
      "cell_type": "markdown",
      "metadata": {
        "id": "WBpAnpNZOR4n",
        "colab_type": "text"
      },
      "source": [
        "## concat_images Function\n",
        "\n",
        "1. Function: Concatenates a bunch of images into a big matrix for plotting purposes\n",
        "2. Parameters: X - input images\n",
        "3. Return: img - Concatenated image"
      ]
    },
    {
      "cell_type": "code",
      "metadata": {
        "id": "36U07BvWhNjj",
        "colab_type": "code",
        "colab": {}
      },
      "source": [
        "def concat_images(X):\n",
        "    \n",
        "    nc, h , w, _ = X.shape\n",
        "    X = X.reshape(nc, h, w)\n",
        "    n = np.ceil(np.sqrt(nc)).astype(\"int8\")\n",
        "    img = np.zeros((n*w,n*h))\n",
        "    x = 0\n",
        "    y = 0\n",
        "    for example in range(nc):\n",
        "        img[x*w:(x+1)*w, y*h:(y+1)*h] = X[example]\n",
        "        y += 1\n",
        "        if y >= n:\n",
        "            y = 0\n",
        "            x += 1\n",
        "    return img"
      ],
      "execution_count": 0,
      "outputs": []
    },
    {
      "cell_type": "markdown",
      "metadata": {
        "id": "PH5CPjHAOawK",
        "colab_type": "text"
      },
      "source": [
        "## plot_oneshot_task Function\n",
        "1. Function: Plot the images of N way one-shot learning pairs\n",
        "2. Parameters: pairs - pairs of images"
      ]
    },
    {
      "cell_type": "code",
      "metadata": {
        "id": "b_YzqXrfiMuE",
        "colab_type": "code",
        "colab": {}
      },
      "source": [
        "def plot_oneshot_task(pairs):\n",
        "    \n",
        "    fig,(ax1,ax2) = plt.subplots(nrows=1, ncols=2)\n",
        "    ax1.matshow(pairs[0][0].reshape(105,105), cmap='gray')\n",
        "    img = concat_images(pairs[1])\n",
        "    ax1.get_yaxis().set_visible(False)\n",
        "    ax1.get_xaxis().set_visible(False)\n",
        "    ax2.matshow(img, cmap='gray')\n",
        "    plt.xticks([])\n",
        "    plt.yticks([])\n",
        "    plt.show()"
      ],
      "execution_count": 0,
      "outputs": []
    },
    {
      "cell_type": "code",
      "metadata": {
        "id": "iSlKmr4RiPGT",
        "colab_type": "code",
        "outputId": "8f3a87eb-72fe-4576-9b7a-fdc7dc3954d0",
        "colab": {
          "base_uri": "https://localhost:8080/",
          "height": 191
        }
      },
      "source": [
        "# Plot 20 way one-shot learning pair for Sanskrit Language\n",
        "pairs, targets = make_oneshot_task(20, \"train\", \"Sanskrit\")\n",
        "plot_oneshot_task(pairs)"
      ],
      "execution_count": 0,
      "outputs": [
        {
          "output_type": "display_data",
          "data": {
            "image/png": "[encoded data removed]",
            "text/plain": [
              "<Figure size 432x288 with 2 Axes>"
            ]
          },
          "metadata": {
            "tags": []
          }
        }
      ]
    },
    {
      "cell_type": "code",
      "metadata": {
        "id": "8ymcgasWjJii",
        "colab_type": "code",
        "outputId": "87a8a17a-1be7-4994-8bed-daa78b052977",
        "colab": {
          "base_uri": "https://localhost:8080/",
          "height": 87
        }
      },
      "source": [
        "# Evaluate the accuracy for 250 random 20 way One-shot learning tasks\n",
        "\n",
        "acc = test_oneshot(model, 20, 250, s='Sanskrit', verbose=True)"
      ],
      "execution_count": 0,
      "outputs": [
        {
          "output_type": "stream",
          "text": [
            "Evaluating model on 250 random 20 way one-shot learning tasks ... \n",
            "\n",
            "Got an average of 71.6% 20 way one-shot learning accuracy \n",
            "\n"
          ],
          "name": "stdout"
        }
      ]
    }
  ]
}